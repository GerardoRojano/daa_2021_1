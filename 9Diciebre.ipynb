{
  "nbformat": 4,
  "nbformat_minor": 0,
  "metadata": {
    "colab": {
      "name": "9Diciebre.ipynb",
      "provenance": [],
      "authorship_tag": "ABX9TyO+88h3eFAUijyHauFsIoFo",
      "include_colab_link": true
    },
    "kernelspec": {
      "name": "python3",
      "display_name": "Python 3"
    }
  },
  "cells": [
    {
      "cell_type": "markdown",
      "metadata": {
        "id": "view-in-github",
        "colab_type": "text"
      },
      "source": [
        "<a href=\"https://colab.research.google.com/github/GerardoRojano/daa_2021_1/blob/master/9Diciebre.ipynb\" target=\"_parent\"><img src=\"https://colab.research.google.com/assets/colab-badge.svg\" alt=\"Open In Colab\"/></a>"
      ]
    },
    {
      "cell_type": "code",
      "metadata": {
        "colab": {
          "base_uri": "https://localhost:8080/"
        },
        "id": "vpEYvlr3uQIJ",
        "outputId": "9264e433-c383-4f87-a4f2-ba421cc5da90"
      },
      "source": [
        "\r\n",
        "\r\n",
        "alumno1={'id':2, 'nombre':\"Juan\" , 'carrera':\"ICO\", 'promedio':7.67}\r\n",
        "alumno2={'id':4, 'nombre':\"Rocio\" , 'carrera':\"ICI\", 'promedio':8.67}\r\n",
        "alumno3={'id':5, 'nombre':\"Diego\" , 'carrera':\"DER\", 'promedio':8.98}\r\n",
        "alumno4={'id':7, 'nombre':\"May\" , 'carrera':\"ICI\", 'promedio':9.87}\r\n",
        "alumno5={'id':9, 'nombre':\"Rob\" , 'carrera':\"IME\", 'promedio':10.00}\r\n",
        "alumno6={'id':10, 'nombre':\"Santi\" , 'carrera':\"ICO\", 'promedio':5.37}\r\n",
        "alumno7={'id':14, 'nombre':\"Moy\" , 'carrera':\"IME\", 'promedio':6.85}\r\n",
        "alumno8={'id':16, 'nombre':\"Diana\" , 'carrera':\"DER\", 'promedio':9.99}\r\n",
        "alumno9={'id':19, 'nombre':\"Zoila\" , 'carrera':\"ICO\", 'promedio':8.22}\r\n",
        "alumno10={'id':22, 'nombre':\"Armando\" , 'carrera':\"ICO\", 'promedio':7.32}\r\n",
        "\r\n",
        "bd = []\r\n",
        "bd.append(alumno1)\r\n",
        "bd.append(alumno2)\r\n",
        "bd.append(alumno3)\r\n",
        "bd.append(alumno4)\r\n",
        "bd.append(alumno5)\r\n",
        "bd.append(alumno6)\r\n",
        "bd.append(alumno7)\r\n",
        "bd.append(alumno8)\r\n",
        "bd.append(alumno9)\r\n",
        "bd.append(alumno10)\r\n",
        "\r\n",
        "\r\n",
        "x=len(bd)\r\n",
        "\r\n",
        "id2=4\r\n",
        "\r\n",
        "\r\n",
        "print(x)\r\n",
        "\r\n",
        "def fnRec(bd,index,id2):\r\n",
        "  if index == 0:\r\n",
        "    if bd[index-1]['id']!=id2:\r\n",
        "      print(\"No se encuentra registrado el alumno\")\r\n",
        "  if bd[index-1]['id']==id2:\r\n",
        "    print(bd[index-1])\r\n",
        "\r\n",
        "  else:\r\n",
        "    \r\n",
        "    fnRec(bd,index-1,id2)\r\n",
        "    \r\n",
        "\r\n",
        "fnRec(bd,x,id2)\r\n"
      ],
      "execution_count": 113,
      "outputs": [
        {
          "output_type": "stream",
          "text": [
            "10\n",
            "{'id': 4, 'nombre': 'Rocio', 'carrera': 'ICI', 'promedio': 8.67}\n"
          ],
          "name": "stdout"
        }
      ]
    }
  ]
}