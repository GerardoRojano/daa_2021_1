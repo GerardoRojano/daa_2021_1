{
  "nbformat": 4,
  "nbformat_minor": 0,
  "metadata": {
    "colab": {
      "name": "30Septiembre.ipynb",
      "provenance": [],
      "authorship_tag": "ABX9TyPJaLKOjaotivAIk5TP9Rhe",
      "include_colab_link": true
    },
    "kernelspec": {
      "name": "python3",
      "display_name": "Python 3"
    }
  },
  "cells": [
    {
      "cell_type": "markdown",
      "metadata": {
        "id": "view-in-github",
        "colab_type": "text"
      },
      "source": [
        "<a href=\"https://colab.research.google.com/github/GerardoRojano/daa_2021_1/blob/master/30Septiembre.ipynb\" target=\"_parent\"><img src=\"https://colab.research.google.com/assets/colab-badge.svg\" alt=\"Open In Colab\"/></a>"
      ]
    },
    {
      "cell_type": "markdown",
      "metadata": {
        "id": "GeK_DNq0QGvn"
      },
      "source": [
        "#Palindromos\n",
        "Es una palabra que se lee de igual forma de un sentido y de sentido inverso \n",
        "1. sugus\n",
        "2. oso\n",
        "3. reconocer \n",
        "4. 10101\n",
        "5. 10:01\n",
        "etc.\n",
        "\n",
        "### Problema \n",
        "Se decea encontrar todos los palindromos que existen en la franja horaria de un dia completo, tomando como horario inicia las 00:00 horas y como final las 23:59 horas. \n",
        "\n",
        "El algoritmo debe mostrar en pantalla todos los palindromos existentes en ese rango, al final debe mostrar el conteo del total de palindromos existentes.\n"
      ]
    },
    {
      "cell_type": "code",
      "metadata": {
        "id": "val8xRIHe45L"
      },
      "source": [
        ""
      ],
      "execution_count": null,
      "outputs": []
    },
    {
      "cell_type": "code",
      "metadata": {
        "id": "_YV2Q0phPWcV",
        "outputId": "f74a9005-2fb1-47ed-dbec-87bdbaa05e33",
        "colab": {
          "base_uri": "https://localhost:8080/",
          "height": 306
        }
      },
      "source": [
        "\n",
        "a=0\n",
        "b=0\n",
        "c=0\n",
        "d=0\n",
        "contador = 0\n",
        "\n",
        "while [a,b, c, d] != [2,3,5,9]:\n",
        "  if [a, b] == [d, c]:    \n",
        "    print(a, b,\":\", c, d)    \n",
        "    d = d + 1\n",
        "    if d == 10:\n",
        "      d = 0\n",
        "      c = c + 1\n",
        "    contador = contador + 1\n",
        "  d= d+ 1\n",
        "  if d == 10:\n",
        "      d = 0\n",
        "      c = c + 1\n",
        "  if c == 6:\n",
        "    c = 0\n",
        "    b = b + 1\n",
        "  if b == 10:\n",
        "    b = 0\n",
        "    a = a +1\n",
        "print(\"palindromos: \",contador)     \n",
        "\n",
        "\n"
      ],
      "execution_count": 57,
      "outputs": [
        {
          "output_type": "stream",
          "text": [
            "0 0 : 0 0\n",
            "0 1 : 1 0\n",
            "0 2 : 2 0\n",
            "0 3 : 3 0\n",
            "0 4 : 4 0\n",
            "0 5 : 5 0\n",
            "1 0 : 0 1\n",
            "1 1 : 1 1\n",
            "1 2 : 2 1\n",
            "1 3 : 3 1\n",
            "1 4 : 4 1\n",
            "1 5 : 5 1\n",
            "2 0 : 0 2\n",
            "2 1 : 1 2\n",
            "2 2 : 2 2\n",
            "2 3 : 3 2\n",
            "palindromos:  16\n"
          ],
          "name": "stdout"
        }
      ]
    }
  ]
}