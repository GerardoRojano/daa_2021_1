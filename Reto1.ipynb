{
  "nbformat": 4,
  "nbformat_minor": 0,
  "metadata": {
    "colab": {
      "name": "Reto1.ipynb",
      "provenance": [],
      "authorship_tag": "ABX9TyOx7Q2B8MK755JUbSNVZqS+",
      "include_colab_link": true
    },
    "kernelspec": {
      "name": "python3",
      "display_name": "Python 3"
    }
  },
  "cells": [
    {
      "cell_type": "markdown",
      "metadata": {
        "id": "view-in-github",
        "colab_type": "text"
      },
      "source": [
        "<a href=\"https://colab.research.google.com/github/GerardoRojano/daa_2021_1/blob/master/Reto1.ipynb\" target=\"_parent\"><img src=\"https://colab.research.google.com/assets/colab-badge.svg\" alt=\"Open In Colab\"/></a>"
      ]
    },
    {
      "cell_type": "code",
      "metadata": {
        "id": "7E7Cu9M3GqVo",
        "outputId": "d4206c81-1125-404f-f4dd-b7966ad7bbf7",
        "colab": {
          "base_uri": "https://localhost:8080/",
          "height": 238
        }
      },
      "source": [
        "A = ['a','b','c','d']\n",
        "bandera = True\n",
        "TablaT = [[0,'a',1],[1,'b',2],[2,'c',3],[3,'a',11],[3,'c',4],[4,'c',5],[5,'b',6],[6,'b',7],[7,'a',8],\n",
        "          [0,'c',9],[9,'d',10],[10,'a',11],[11,'c',3],[11,'a',12],[12,'a',5]]\n",
        "EF = [8]\n",
        "E = 0\n",
        "EA = E\n",
        "CE = input(\"Ingrese una cadena  \")\n",
        "print(len(CE))\n",
        "for c in CE:\n",
        "    print(c)\n",
        "    if c in A:\n",
        "        #print(\"Esta en el alfabeto\")\n",
        "        for f in TablaT:\n",
        "            if c in f and EA in f:\n",
        "                EA = f[2]\n",
        "                #print(\"Estado Actual: \"+str(EA))\n",
        "    else:\n",
        "        print(\"Cadena no pertenece al alfabeto\")\n",
        "        bandera = False\n",
        "\n",
        "if EA in EF and bandera == True:\n",
        "\n",
        "    print(\"Se acepta la cadena de entrada!!!\\n\")\n",
        "\n",
        "    \n",
        "else:\n",
        "    print(\"No se acepta la cadena de entrada!!!\\n\")\n",
        "    \n",
        "    \n",
        "\n"
      ],
      "execution_count": 32,
      "outputs": [
        {
          "output_type": "stream",
          "text": [
            "Ingrese una cadena  bbcaaabba\n",
            "9\n",
            "b\n",
            "b\n",
            "c\n",
            "a\n",
            "a\n",
            "a\n",
            "b\n",
            "b\n",
            "a\n",
            "No se acepta la cadena de entrada!!!\n",
            "\n"
          ],
          "name": "stdout"
        }
      ]
    }
  ]
}