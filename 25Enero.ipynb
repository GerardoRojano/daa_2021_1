{
  "nbformat": 4,
  "nbformat_minor": 0,
  "metadata": {
    "colab": {
      "name": "25Enero.ipynb",
      "provenance": [],
      "authorship_tag": "ABX9TyMFY2Pe3vHdwvuC2+2nUyz2",
      "include_colab_link": true
    },
    "kernelspec": {
      "name": "python3",
      "display_name": "Python 3"
    }
  },
  "cells": [
    {
      "cell_type": "markdown",
      "metadata": {
        "id": "view-in-github",
        "colab_type": "text"
      },
      "source": [
        "<a href=\"https://colab.research.google.com/github/GerardoRojano/daa_2021_1/blob/master/25Enero.ipynb\" target=\"_parent\"><img src=\"https://colab.research.google.com/assets/colab-badge.svg\" alt=\"Open In Colab\"/></a>"
      ]
    },
    {
      "cell_type": "code",
      "metadata": {
        "id": "RXR_RuPZ8amw"
      },
      "source": [
        "class NodoArbol:\r\n",
        "  def __init__(self, value, left=None, rigth=None):\r\n",
        "    self.data = value\r\n",
        "    self.left =left\r\n",
        "    self.rigth = rigth"
      ],
      "execution_count": 1,
      "outputs": []
    },
    {
      "cell_type": "code",
      "metadata": {
        "id": "p1RljB6D8jY2"
      },
      "source": [
        "class BinarySearchTree:\r\n",
        "  def __init__(self):\r\n",
        "    self.__root = None\r\n",
        "  \r\n",
        "  def insert(self, value):\r\n",
        "    if self.__root == None:\r\n",
        "      self.__root = NodoArbol(value, None, None)\r\n",
        "    else:\r\n",
        "    \r\n",
        "        self.__insert_nodo__(self.__root, value)\r\n",
        "  \r\n",
        "  def __insert_nodo__(self, nodo, value):\r\n",
        "    if nodo.data == value:\r\n",
        "      pass\r\n",
        "    elif value < nodo.data: # True va a Izquierda\r\n",
        "      if nodo.left == None: # Si hay espacio lo asigna\r\n",
        "        nodo.left = NodoArbol(value) # Insertamos nodo\r\n",
        "      else:\r\n",
        "        self.__insert_nodo__(nodo.left, value) # Buscar posición en arbol izquierdo\r\n",
        "    else: # Ir a la derecha\r\n",
        "      if nodo.rigth == None:\r\n",
        "        nodo.rigth = NodoArbol(value)\r\n",
        "      else:\r\n",
        "        self.__insert_nodo__(nodo.rigth, value)\r\n",
        "  \r\n",
        "  def buscar(self, value):\r\n",
        "    if self.__root == None:\r\n",
        "      return False\r\n",
        "    else:\r\n",
        "      return self.__busca_nodo(self.__root, value)\r\n",
        "      \r\n",
        "  \r\n",
        "  def __busca_nodo(self, nodo, value):\r\n",
        "    if nodo == None:\r\n",
        "      return None\r\n",
        "    elif nodo.data == value:\r\n",
        "      return nodo.data   \r\n",
        "    elif value < nodo.data:\r\n",
        "      return self.__busca_nodo(nodo.left, value)\r\n",
        "    else:\r\n",
        "      return self.__busca_nodo(nodo.rigth, value)\r\n",
        "\r\n",
        "  \r\n",
        "  def transversal(self, format = \"inorden\"):\r\n",
        "    if format == \"inorden\":\r\n",
        "      self.__recorrido_in(self.__root)\r\n",
        "    elif format == \"preorden\":\r\n",
        "      self.__recorrido_pre(self.__root)\r\n",
        "    elif format == \"posorden\":\r\n",
        "      self.__recorrido_pos(self.__root)\r\n",
        "    else:\r\n",
        "      print(\"Formato de recorrido no válido\")\r\n",
        "  \r\n",
        "  def __recorrido_in(self,nodo):\r\n",
        "    if nodo != None:\r\n",
        "      self.__recorrido_pre(nodo.left)\r\n",
        "      print(nodo.data, end=\",\")\r\n",
        "      self.__recorrido_pre(nodo.rigth)\r\n",
        "\r\n",
        "  def __recorrido_pre(self, nodo):\r\n",
        "    if nodo != None:\r\n",
        "      print(nodo.data, end=\",\")\r\n",
        "      self.__recorrido_pre(nodo.left)\r\n",
        "      self.__recorrido_pre(nodo.rigth)\r\n",
        "    \r\n",
        "  def __recorrido_pos(self, nodo):\r\n",
        "    if nodo != None:\r\n",
        "      self.__recorrido_pre(nodo.left)\r\n",
        "      self.__recorrido_pre(nodo.rigth)\r\n",
        "      print(nodo.data, end=\",\")\r\n",
        "\r\n",
        "  def eliminar(self, value):\r\n",
        "    if self.__root == None:\r\n",
        "      return False\r\n",
        "    else:\r\n",
        "      return self.__eliminar_nodo(self.__root,value)\r\n",
        "\r\n",
        "  def __eliminar_nodo(self, nodo, value):\r\n",
        "    if nodo == None:\r\n",
        "      return None\r\n",
        "    elif nodo.data == value:\r\n",
        "      if nodo.rigth == None and nodo.left == None:\r\n",
        "        return True \r\n",
        "   \r\n",
        "    elif value < nodo.data:\r\n",
        "      if self.__eliminar_nodo(nodo.left, value)== True:\r\n",
        "        nodo.left=None  \r\n",
        "    else:\r\n",
        "      if self.__eliminar_nodo(nodo.rigth, value)==True:\r\n",
        "        nodo.rigth=None"
      ],
      "execution_count": 2,
      "outputs": []
    },
    {
      "cell_type": "code",
      "metadata": {
        "colab": {
          "base_uri": "https://localhost:8080/"
        },
        "id": "x-14oI168kcM",
        "outputId": "548a8eda-d379-475e-8e75-b552c7277ce1"
      },
      "source": [
        "bst = BinarySearchTree()\r\n",
        "bst.insert(50)\r\n",
        "bst.insert(40)\r\n",
        "bst.insert(20)\r\n",
        "bst.insert(45)\r\n",
        "bst.insert(80)\r\n",
        "bst.insert(60)\r\n",
        "bst.insert(90)\r\n",
        "bst.insert(85)\r\n",
        "bst.insert(100)\r\n",
        "bst.insert(95)\r\n",
        "print(\"recorrido inical:\")\r\n",
        "bst.transversal(format=\"preorden\")\r\n",
        "print()\r\n",
        "bst.eliminar(60)\r\n",
        "print(\"recorrido despues de eliminar:\")\r\n",
        "bst.transversal(format=\"preorden\")\r\n"
      ],
      "execution_count": 3,
      "outputs": [
        {
          "output_type": "stream",
          "text": [
            "recorrido inical:\n",
            "50,40,20,45,80,60,90,85,100,95,\n",
            "recorrido despues de eliminar:\n",
            "50,40,20,45,80,90,85,100,95,"
          ],
          "name": "stdout"
        }
      ]
    }
  ]
}