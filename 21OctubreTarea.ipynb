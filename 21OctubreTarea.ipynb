{
  "nbformat": 4,
  "nbformat_minor": 0,
  "metadata": {
    "colab": {
      "name": "21OctubreTarea.ipynb",
      "provenance": [],
      "private_outputs": true,
      "authorship_tag": "ABX9TyMNFzvLlhq8jrKTEb+5ep/z",
      "include_colab_link": true
    },
    "kernelspec": {
      "name": "python3",
      "display_name": "Python 3"
    }
  },
  "cells": [
    {
      "cell_type": "markdown",
      "metadata": {
        "id": "view-in-github",
        "colab_type": "text"
      },
      "source": [
        "<a href=\"https://colab.research.google.com/github/GerardoRojano/daa_2021_1/blob/master/21OctubreTarea.ipynb\" target=\"_parent\"><img src=\"https://colab.research.google.com/assets/colab-badge.svg\" alt=\"Open In Colab\"/></a>"
      ]
    },
    {
      "cell_type": "code",
      "metadata": {
        "id": "U95fazWLlBve"
      },
      "source": [
        "\n",
        "\n",
        "def ejemplo(n):\n",
        "  count=0\n",
        "  print(\"nivel 1\")\n",
        "  i=n\n",
        "  print(\"nivel 1\")\n",
        "  while i >=1:\n",
        "    print(\"nivel 2\")\n",
        "    count += 1\n",
        "    i=i//2\n",
        "    \n",
        "  basura =3+2\n",
        "  print(\"nivel 1\")\n",
        "  return count \n",
        "\n"
      ],
      "execution_count": null,
      "outputs": []
    },
    {
      "cell_type": "code",
      "metadata": {
        "id": "my5lQEegl5g5"
      },
      "source": [
        "ejemplo(1)"
      ],
      "execution_count": null,
      "outputs": []
    }
  ]
}