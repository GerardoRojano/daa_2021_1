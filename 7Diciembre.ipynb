{
  "nbformat": 4,
  "nbformat_minor": 0,
  "metadata": {
    "colab": {
      "name": "7Diciembre.ipynb",
      "provenance": [],
      "authorship_tag": "ABX9TyPrrZIDl/UPY/DpBiyoN001",
      "include_colab_link": true
    },
    "kernelspec": {
      "name": "python3",
      "display_name": "Python 3"
    }
  },
  "cells": [
    {
      "cell_type": "markdown",
      "metadata": {
        "id": "view-in-github",
        "colab_type": "text"
      },
      "source": [
        "<a href=\"https://colab.research.google.com/github/GerardoRojano/daa_2021_1/blob/master/7Diciembre.ipynb\" target=\"_parent\"><img src=\"https://colab.research.google.com/assets/colab-badge.svg\" alt=\"Open In Colab\"/></a>"
      ]
    },
    {
      "cell_type": "code",
      "metadata": {
        "id": "J-xhOsbF7iJt"
      },
      "source": [
        "def fnRecinfinita():\n",
        "  print(\"Hola\")\n",
        "  fnRecinfinita()\n"
      ],
      "execution_count": null,
      "outputs": []
    },
    {
      "cell_type": "code",
      "metadata": {
        "id": "JQzu11lI_56h"
      },
      "source": [
        "fnRecinfinita()"
      ],
      "execution_count": null,
      "outputs": []
    },
    {
      "cell_type": "code",
      "metadata": {
        "colab": {
          "base_uri": "https://localhost:8080/"
        },
        "id": "kloosjw9AY7n",
        "outputId": "fdb8ffaa-cb9a-4c19-e824-2d83de38899a"
      },
      "source": [
        "def fnRec(x):\n",
        "  if x==0:\n",
        "    print(\"stop\")\n",
        "  else:\n",
        "    print(x)\n",
        "    fnRec(x-1)\n",
        "    \n",
        "\n",
        "def main():\n",
        "  print(\"inicio del programa\")\n",
        "  fnRec(5)\n",
        "  print(\"fin del programa\")\n",
        "\n",
        "main()"
      ],
      "execution_count": null,
      "outputs": [
        {
          "output_type": "stream",
          "text": [
            "inicio del programa\n",
            "5\n",
            "4\n",
            "3\n",
            "2\n",
            "1\n",
            "stop\n",
            "fin del programa\n"
          ],
          "name": "stdout"
        }
      ]
    },
    {
      "cell_type": "code",
      "metadata": {
        "colab": {
          "base_uri": "https://localhost:8080/"
        },
        "id": "7I7gLlgqBbZQ",
        "outputId": "7361effa-a98f-4ad9-905b-d6aa5e051156"
      },
      "source": [
        "def printRev(x):\n",
        "  if x>0:\n",
        "    \n",
        "    printRev(x-1)\n",
        "    print(x)\n",
        "\n",
        "printRev(3)"
      ],
      "execution_count": null,
      "outputs": [
        {
          "output_type": "stream",
          "text": [
            "1\n",
            "2\n",
            "3\n"
          ],
          "name": "stdout"
        }
      ]
    },
    {
      "cell_type": "code",
      "metadata": {
        "colab": {
          "base_uri": "https://localhost:8080/"
        },
        "id": "O_EsXWcCJD4U",
        "outputId": "b85ddf01-9914-45e4-cd86-84be5d25daf4"
      },
      "source": [
        "def fibonacci(n):\n",
        "  print(\"llamada\",n)\n",
        "  if n == 1 or n==0:\n",
        "    return n\n",
        "  else:\n",
        "    return (fibonacci(n-1)+fibonacci(n-2))\n",
        "\n",
        "print(fibonacci(8))"
      ],
      "execution_count": 1,
      "outputs": [
        {
          "output_type": "stream",
          "text": [
            "llamada 8\n",
            "llamada 7\n",
            "llamada 6\n",
            "llamada 5\n",
            "llamada 4\n",
            "llamada 3\n",
            "llamada 2\n",
            "llamada 1\n",
            "llamada 0\n",
            "llamada 1\n",
            "llamada 2\n",
            "llamada 1\n",
            "llamada 0\n",
            "llamada 3\n",
            "llamada 2\n",
            "llamada 1\n",
            "llamada 0\n",
            "llamada 1\n",
            "llamada 4\n",
            "llamada 3\n",
            "llamada 2\n",
            "llamada 1\n",
            "llamada 0\n",
            "llamada 1\n",
            "llamada 2\n",
            "llamada 1\n",
            "llamada 0\n",
            "llamada 5\n",
            "llamada 4\n",
            "llamada 3\n",
            "llamada 2\n",
            "llamada 1\n",
            "llamada 0\n",
            "llamada 1\n",
            "llamada 2\n",
            "llamada 1\n",
            "llamada 0\n",
            "llamada 3\n",
            "llamada 2\n",
            "llamada 1\n",
            "llamada 0\n",
            "llamada 1\n",
            "llamada 6\n",
            "llamada 5\n",
            "llamada 4\n",
            "llamada 3\n",
            "llamada 2\n",
            "llamada 1\n",
            "llamada 0\n",
            "llamada 1\n",
            "llamada 2\n",
            "llamada 1\n",
            "llamada 0\n",
            "llamada 3\n",
            "llamada 2\n",
            "llamada 1\n",
            "llamada 0\n",
            "llamada 1\n",
            "llamada 4\n",
            "llamada 3\n",
            "llamada 2\n",
            "llamada 1\n",
            "llamada 0\n",
            "llamada 1\n",
            "llamada 2\n",
            "llamada 1\n",
            "llamada 0\n",
            "21\n"
          ],
          "name": "stdout"
        }
      ]
    },
    {
      "cell_type": "code",
      "metadata": {
        "colab": {
          "base_uri": "https://localhost:8080/"
        },
        "id": "Zfc0X8lL5lFG",
        "outputId": "e92729fa-5b5d-4afa-fe8f-7978c4372986"
      },
      "source": [
        ""
      ],
      "execution_count": null,
      "outputs": [
        {
          "output_type": "stream",
          "text": [
            "[1, 2, 3]\n",
            "[1, 2, 3, 4]\n",
            "<built-in method pop of list object at 0x7f98f7160988>\n"
          ],
          "name": "stdout"
        }
      ]
    }
  ]
}