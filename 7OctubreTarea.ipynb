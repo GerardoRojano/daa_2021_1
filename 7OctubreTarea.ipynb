{
  "nbformat": 4,
  "nbformat_minor": 0,
  "metadata": {
    "colab": {
      "name": "7OctubreTarea.ipynb",
      "provenance": [],
      "private_outputs": true,
      "collapsed_sections": [],
      "toc_visible": true,
      "authorship_tag": "ABX9TyOZTeIyLhwn3lxVe+YSzhs7",
      "include_colab_link": true
    },
    "kernelspec": {
      "name": "python3",
      "display_name": "Python 3"
    }
  },
  "cells": [
    {
      "cell_type": "markdown",
      "metadata": {
        "id": "view-in-github",
        "colab_type": "text"
      },
      "source": [
        "<a href=\"https://colab.research.google.com/github/GerardoRojano/daa_2021_1/blob/master/7OctubreTarea.ipynb\" target=\"_parent\"><img src=\"https://colab.research.google.com/assets/colab-badge.svg\" alt=\"Open In Colab\"/></a>"
      ]
    },
    {
      "cell_type": "markdown",
      "metadata": {
        "id": "9WRY9osKhyPC"
      },
      "source": [
        "Hacer un programa que valide el balanceo de paréntesis ( ), corchetes cuadrados [ ] y pico paréntesis { }\n",
        "*en programas del lengua C y Java (para generar pruebas)"
      ]
    },
    {
      "cell_type": "code",
      "metadata": {
        "id": "WJZi0ojRjWE4"
      },
      "source": [
        "from google.colab import files\n",
        "files.upload()"
      ],
      "execution_count": null,
      "outputs": []
    },
    {
      "cell_type": "markdown",
      "metadata": {
        "id": "4Xc4qycQ9etf"
      },
      "source": [
        "public class Tarea1AyDdeA {\n",
        "\n",
        "    /**\n",
        "     * @param args the command line arguments\n",
        "     */\n",
        "    public static void main(String [] args){\n",
        "        // TODO code application logic here\n",
        "        Object dato1=20;\n",
        "        Object dato2=23;\n",
        "        Object dato3=19;\n",
        "        Object dato4=57;\n",
        "        Object dato5=67;\n",
        "        Object dato6=99;\n",
        "        \n",
        "       Nodo n1=new Nodo(dato1 ) ;\n",
        "       Nodo n2=new Nodo(dato2 ) ;\n",
        "       Nodo n3=new Nodo(dato3 ) ;\n",
        "       Nodo n4=new Nodo(dato4 ) ;\n",
        "       Nodo n5=new Nodo(dato5 ) ;\n",
        "       Nodo n6=new Nodo(dato6 ) ;\n",
        "       \n",
        "       n1.setArriba( n3 ) ;\n",
        "       n3.setArriba( n5 ) ;\n",
        "       n5.setArriba( n6 ) ;\n",
        "       Nodo aux=n1;\n",
        "        for( int i = 0; i < 4; i++){\n",
        "            Object aux1= aux.getDato() ;\n",
        "            System.out.println ( aux1 ) ;\n",
        "            aux=aux.getArriba() ;\n",
        "        }\n",
        "        System.out.println ( \"\" );\n",
        "       n1.setArriba ( n2 ) ;\n",
        "       n2.setArriba ( n4 ) ;\n",
        "       Nodo aux2=n1;\n",
        "        for ( int i = 0; i < 3; i++ ){\n",
        "            Object aux1= aux2.getDato() ;\n",
        "            System.out.println ( aux1 ) ;\n",
        "            aux2=aux2.getArriba() ;\n",
        "        } \n",
        "    } \n",
        "\n",
        "}\n",
        " "
      ]
    },
    {
      "cell_type": "code",
      "metadata": {
        "id": "0yjKhHhUeKLE"
      },
      "source": [
        "class Stack:\n",
        "  def __init__(self):\n",
        "    self.__datos=[]\n",
        "\n",
        "  def is_empty(self):\n",
        "    return len(self.__datos) == 0\n",
        "  \n",
        "  def get__top(self):\n",
        "    return self.__datos[-1]#dame el ultimo elemento \n",
        "  \n",
        "  def pop(self):\n",
        "    return self.__datos.pop()\n",
        "\n",
        "  def push(self , valor ):\n",
        "    self.__datos.append(valor)\n",
        "\n",
        "  def get__length(self):\n",
        "    return len(self.__datos)\n",
        "\n",
        "  def to__string( self ):\n",
        "    print(\"|------------|\")\n",
        "    for ele in self.__datos[-1::-1]:\n",
        "      print(f\"{ele}\")\n",
        "    print(\"|------------|\\n\")\n",
        "  \n",
        "fichero=open(\"prueba.txt\",\"r\")\n",
        "caracter=fichero.read(1)\n",
        "contador=0\n",
        "contadora=0\n",
        "a,b,c=\"{\",\"[\",\"(\"\n",
        "d,e,f=\"}\",\"]\",\")\"\n",
        "pila1=Stack()\n",
        "while caracter != \"\":\n",
        "  if caracter==a:\n",
        "    \n",
        "    pila1.push(\"@\")\n",
        "    contador=contador+1\n",
        "    \n",
        "  if caracter==b:\n",
        "    \n",
        "    pila1.push(\"@\")\n",
        "    contador=contador+1\n",
        "    \n",
        "  if caracter==c:\n",
        "    \n",
        "    pila1.push(\"@\")\n",
        "    contador=contador+1\n",
        "    \n",
        "  caracter =fichero.read(1)\n",
        "  if caracter==d:\n",
        "    \n",
        "    pila1.pop()\n",
        "    contadora=contadora+1\n",
        "    \n",
        "  if caracter==e:\n",
        "   \n",
        "    pila1.pop()\n",
        "    contadora=contadora+1\n",
        "    \n",
        "  if caracter==f:\n",
        "   \n",
        "    pila1.pop()\n",
        "    contadora=contadora+1\n",
        "    \n",
        "  caracter =fichero.read(1)\n",
        "\n",
        "if contador==contadora:\n",
        "  print(contador)\n",
        "  print(contadora)\n",
        "  print(f\"{pila1.get__length()}\")\n",
        "  print(f\"{pila1.is_empty()}\")\n",
        "  pila1.to__string()\n",
        "  print(\"Esta balanceado el programa\")\n",
        "\n",
        "if contador!=contadora:\n",
        "  print(contador)\n",
        "  print(contadora)\n",
        "  print(f\"{pila1.get__length()}\")\n",
        "  print(f\"{pila1.is_empty()}\")\n",
        "  pila1.to__string()\n",
        "  print(\"No esta balanceado el programa\")\n"
      ],
      "execution_count": null,
      "outputs": []
    }
  ]
}