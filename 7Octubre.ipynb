{
  "nbformat": 4,
  "nbformat_minor": 0,
  "metadata": {
    "colab": {
      "name": "7Octubre.ipynb",
      "provenance": [],
      "authorship_tag": "ABX9TyO2LEQ6LEr/I9pJfccF8s2Z",
      "include_colab_link": true
    },
    "kernelspec": {
      "name": "python3",
      "display_name": "Python 3"
    }
  },
  "cells": [
    {
      "cell_type": "markdown",
      "metadata": {
        "id": "view-in-github",
        "colab_type": "text"
      },
      "source": [
        "<a href=\"https://colab.research.google.com/github/GerardoRojano/daa_2021_1/blob/master/7Octubre.ipynb\" target=\"_parent\"><img src=\"https://colab.research.google.com/assets/colab-badge.svg\" alt=\"Open In Colab\"/></a>"
      ]
    },
    {
      "cell_type": "markdown",
      "metadata": {
        "id": "cV4CAHLOSjHl"
      },
      "source": [
        "#Búsqueda líneal \n",
        "Cada conjuento de datos no ordenados, la busqueda lineal consiste en recorrer al conjunto de datos desde el inicio al final moviendose de uno en ino hasta encontrar el elemento o llegar al final del cojunto \n",
        "\n",
        "datos = [ 4,18,47,2,34,14,78,12,48,21,31,19,1,3,5]\n",
        "\n",
        "#Busqueda binaria \n",
        "funcuina sobre un onjunto de datos lenual ordenado \n",
        "Consiste en dividir el conjunto en mitades y buscar en esa mitad , si el elemento buscado no esta en la mitad, preguntar si el elemento esta a la derecha o a la izq\n",
        "Haces la lista igual ala mitad correspondiente y repites el proceso \n",
        "L=[1, 2, 3, 4, 5, 12, 14, 18, 19, 21, 31, 34, 47, 48, 78]\n",
        "DER=longitud(L)-1\n",
        "\n",
        "IZQ=0\n",
        "\n",
        "MID apuntara a la mitad del segmento de busqueda\n",
        "\n",
        "buscado es el valor a buscar (47)\n",
        "\n",
        "1. Hacer DER=longitud(L)-1\n",
        "2. Hacer IZQ=0\n",
        "3.Si IZQ>DER significa que hay un error en los datos  \n",
        "4. Calcular MID =int((IZQ+DER)/2)\n",
        "5. Mientras L[MID]!=buscado hacer \n",
        "6.   - Preguntar si L[MID]>buscado:\n",
        "      -  hacer DER=mid\n",
        "     - de lo contrario \n",
        "       - hacer IZQ= mid\n",
        "     - preguntar (DER-IZQ)%2\n",
        "       - MID=(IZQ+(DER-IZQ)/2)+1\n",
        "     - de lo contrario \n",
        "       - MID=IZQ+((DER-IZQ)/2)    \n",
        "7. return MID"
      ]
    },
    {
      "cell_type": "code",
      "metadata": {
        "id": "gfuuxZsGSctm"
      },
      "source": [
        "\"\"\"\n",
        "Busqueda lineal \n",
        "Regresa el elemento buscado si se encuentra dentro de la lista \n",
        "Regresa -1 si el elemento buscando no existe dentro de la lista \n",
        "\"\"\"\n",
        "\n",
        "def busq_lineal( L , buscado):\n",
        "  indicie = -1\n",
        "  contador = 0\n",
        "  for idx in range(len(L)):\n",
        "    contador =contador+ 1\n",
        "    if L[idx]==buscado:\n",
        "      indice=idx\n",
        "      break\n",
        "  print(f\"Numero de comparaciones realizadas={contador}\")\n",
        "  return indice\n",
        "\n",
        "\"\"\"\n",
        "Busqueda binaria \n",
        "\"\"\"\n",
        "def busq_binaria(L, buscado):\n",
        "  IZQ = 0\n",
        "  DER = len(L) -1\n",
        "  MID = int((IZQ + DER)/2)\n",
        "  if len(L) % 2 == 0:\n",
        "    MID = (DER // 2) +1\n",
        "  else:\n",
        "    MID = DER //2\n",
        " \n",
        "  while (L[MID] != buscado):\n",
        "    if L[MID] > buscado:\n",
        "      DER = MID\n",
        "    else:\n",
        "      IZQ = MID\n",
        "    if (DER - IZQ) %2 == 0:\n",
        "      MID = (IZQ + (DER - IZQ)//2) +1\n",
        "    else:\n",
        "      MID = IZQ +((DER -IZQ)//2)\n",
        "  return MID\n",
        "\n",
        "\n",
        "\n",
        "def main():\n",
        "  datos = [ 4,18,47,2,34,14,78,12,48,21,31,19,1,3,5]\n",
        "  dato=int(input(\"Que valor quieres buscar: \"))\n",
        "  resultado=busq_lineal( datos, dato)\n",
        "  print(\"Resultado \", resultado)\n",
        "\n",
        "  print(\"Busqueda lineal en una lista ordenada\")\n",
        "  datos.sort()\n",
        "  print(datos)\n",
        "  resultado=busq_lineal(datos,dato)\n",
        "  print(\"Resultado \", resultado)\n",
        "\n",
        "  print(\"Busqueda Binaria\")\n",
        "  posicion = busq_binaria(datos, dato)\n",
        "  print(f\"El elemento está en la posición: {posicion}\")\n",
        "\n",
        "\n",
        "main()"
      ],
      "execution_count": null,
      "outputs": []
    }
  ]
}