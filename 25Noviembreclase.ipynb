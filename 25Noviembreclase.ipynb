{
  "nbformat": 4,
  "nbformat_minor": 0,
  "metadata": {
    "colab": {
      "name": "25Noviembreclase.ipynb",
      "private_outputs": true,
      "provenance": [],
      "authorship_tag": "ABX9TyP/UyB9iV7hhQBSNRcQD9HJ",
      "include_colab_link": true
    },
    "kernelspec": {
      "name": "python3",
      "display_name": "Python 3"
    }
  },
  "cells": [
    {
      "cell_type": "markdown",
      "metadata": {
        "id": "view-in-github",
        "colab_type": "text"
      },
      "source": [
        "<a href=\"https://colab.research.google.com/github/GerardoRojano/daa_2021_1/blob/master/25Noviembreclase.ipynb\" target=\"_parent\"><img src=\"https://colab.research.google.com/assets/colab-badge.svg\" alt=\"Open In Colab\"/></a>"
      ]
    },
    {
      "cell_type": "code",
      "metadata": {
        "id": "B6NKS3VW6tvC"
      },
      "source": [
        "texto=\"El lema que anima a la Universidad Nacional, Por mi raza hablará el espíritu, revela la vocación humanística con la que fue concebida. El autor de esta célebre frase, José Vasconcelos, asumió la rectoría en 1920, en una época en que las esperanzas de la Revolución aún estaban vivas, había una gran fe en la Patria y el ánimo redentor se extendía en el ambiente.\"\n",
        "\n",
        "texto=texto.strip().replace(\"\\n\",\"\").replace(\",\",\"\").replace(\".\",\"\").lower().split(\" \")\n",
        "print(texto)\n",
        "frecuancias={}\n",
        "for index in range(len(texto)):\n",
        "  if texto[index] in frecuancias:\n",
        "    pass\n",
        "  else:\n",
        "    frecuancias[texto[index]]=1\n",
        "    for pivote in range(index+1,len(texto),1):\n",
        "       #print(texto[index], \"comparada contra \", texto[pivote])\n",
        "      if texto[index]==texto[pivote]:\n",
        "        frecuancias[texto[index]]+=1\n",
        "print(frecuancias)\n",
        "    "
      ],
      "execution_count": null,
      "outputs": []
    },
    {
      "cell_type": "code",
      "metadata": {
        "id": "Og7veEB5_bZ5"
      },
      "source": [
        "palabra = 'hola'\n",
        "print( hash(palabra))\n",
        "palabra= 'hole'\n",
        "print(hash(palabra))"
      ],
      "execution_count": null,
      "outputs": []
    },
    {
      "cell_type": "code",
      "metadata": {
        "id": "8XIdt3cdFlxw"
      },
      "source": [
        "texto=\"El lema que anima a la Universidad Nacional, Por mi raza hablará el espíritu, revela la vocación humanística con la que fue concebida. El autor de esta célebre frase, José Vasconcelos, asumió la rectoría en 1920, en una época en que las esperanzas de la Revolución aún estaban vivas, había una gran fe en la Patria y el ánimo redentor se extendía en el ambiente.\"\n",
        "\n",
        "texto=texto.strip().replace(\"\\n\",\"\").replace(\",\",\"\").replace(\".\",\"\").lower().split(\" \")\n",
        "print(texto)\n",
        "frecuancias={} \n",
        "for index in range(len(texto)):\n",
        "  print(hash(texto[index]))\n",
        "  if texto[index] in frecuancias:\n",
        "     frecuancias[texto[index]]+=1\n",
        "  else:\n",
        "    frecuancias[texto[index]]=1\n",
        "print(frecuancias)"
      ],
      "execution_count": null,
      "outputs": []
    }
  ]
}