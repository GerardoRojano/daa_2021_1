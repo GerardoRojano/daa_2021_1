{
  "nbformat": 4,
  "nbformat_minor": 0,
  "metadata": {
    "colab": {
      "name": "20Enero.ipynb",
      "provenance": [],
      "authorship_tag": "ABX9TyNhPzewRee8sPltfBA7g5Aa",
      "include_colab_link": true
    },
    "kernelspec": {
      "name": "python3",
      "display_name": "Python 3"
    }
  },
  "cells": [
    {
      "cell_type": "markdown",
      "metadata": {
        "id": "view-in-github",
        "colab_type": "text"
      },
      "source": [
        "<a href=\"https://colab.research.google.com/github/GerardoRojano/daa_2021_1/blob/master/20Enero.ipynb\" target=\"_parent\"><img src=\"https://colab.research.google.com/assets/colab-badge.svg\" alt=\"Open In Colab\"/></a>"
      ]
    },
    {
      "cell_type": "code",
      "metadata": {
        "id": "lx3sZ0MkbJyl"
      },
      "source": [
        "class NodoArbol:\r\n",
        "    def __init__( self , dato ,  hijo_izq=None , hijo_der=None):\r\n",
        "        self.dato = dato\r\n",
        "        self.left = hijo_izq\r\n",
        "        self.right = hijo_der"
      ],
      "execution_count": null,
      "outputs": []
    },
    {
      "cell_type": "code",
      "metadata": {
        "id": "DrPsQhelXiZs"
      },
      "source": [
        "class BinarySearchTree:\r\n",
        "  def _init_(self):\r\n",
        "    self.__root = None\r\n",
        "  \r\n",
        "  def insert(self, value):\r\n",
        "    if self.__root == None:\r\n",
        "      self.__root = NodoArbol(value, None, None)\r\n",
        "    else:\r\n",
        "      if value < self.__root.data: # checar\r\n",
        "        self._insert_nodo(self._root, value)\r\n",
        "  \r\n",
        "  def _insert_nodo_(self, nodo, value):\r\n",
        "    if nodo.data == value:\r\n",
        "      pass\r\n",
        "    elif value < nodo.data: # True va a Izquierda\r\n",
        "      if nodo.left == None: # Si hay espacio lo asigna\r\n",
        "        nodo.left = NodoArbol(value, None, None) # Insertamos nodo\r\n",
        "      else:\r\n",
        "        self._insert_nodo_(nodo.left, value) # Buscar posición en arbol izquierdo\r\n",
        "    else: # Ir a la derecha\r\n",
        "      if nodo.right == None:\r\n",
        "        nodo.right = NodoArbol(value)\r\n",
        "      else:\r\n",
        "        self._insert_nodo_(nodo.right, value)\r\n",
        "  \r\n",
        "  def buscar(self, value):\r\n",
        "    if self.__root == None:\r\n",
        "      return False\r\n",
        "    else:\r\n",
        "      return self._busca_nodo(self._root, value)\r\n",
        "  \r\n",
        "  def __busca_nodo(self, nodo, value):\r\n",
        "    if nodo == None:\r\n",
        "      return None\r\n",
        "    elif nodo.data == value:\r\n",
        "      return nodo.data   # A lo mejor regresar nodo.data por culpa de Alan\r\n",
        "    elif value < nodo.data:\r\n",
        "      return self.__busca_nodo(nodo.left, value)\r\n",
        "    else:\r\n",
        "      return self.__busca_nodo(nodo.right, value)\r\n",
        "\r\n",
        "  def transversal(self, format = \"inorden\"):\r\n",
        "    if format == \"inorden\":\r\n",
        "      self._recorrido_in(self._root)\r\n",
        "    elif format == \"preorden\":\r\n",
        "      self._recorrido_pre(self._root)\r\n",
        "    elif format == \"posorden\":\r\n",
        "      self._recorrido_pos(self._root)\r\n",
        "    else:\r\n",
        "      print(\"Formato de recorrido no válido\")\r\n",
        "  \r\n",
        "  def __recorrido_pre(self, nodo):\r\n",
        "    if nodo != None:\r\n",
        "      print(nodo.data, end = \",\")\r\n",
        "      self.__recorrido_pre(nodo.left)\r\n",
        "      self.__recorrido_pre(nodo.right)\r\n",
        "\r\n",
        "  def __recorrido_in(self, nodo):\r\n",
        "    if nodo != None:\r\n",
        "      self.__recorrido_in(nodo.left)\r\n",
        "      print(nodo.data, end = \",\")\r\n",
        "      self.__recorrido_in(nodo.right)\r\n",
        "\r\n",
        "  def __recorrido_pos(self, nodo):\r\n",
        "    if nodo != None:\r\n",
        "      self.__recorrido_pos(nodo.left)\r\n",
        "      self.__recorrido_pos(nodo.right)\r\n",
        "      print(nodo.data, end = \",\")"
      ],
      "execution_count": 9,
      "outputs": []
    },
    {
      "cell_type": "code",
      "metadata": {
        "colab": {
          "base_uri": "https://localhost:8080/",
          "height": 350
        },
        "id": "uAELw62NbxFd",
        "outputId": "befb1792-b491-491f-bf5c-7369120dec74"
      },
      "source": [
        "bst = BinarySearchTree()\r\n",
        "bst.insert(50)\r\n",
        "bst.insert(30)\r\n",
        "bst.insert(20)\r\n",
        "rest=bst.buscar(20)\r\n",
        "print(\" Dato : \", str(res))\r\n",
        "print(bst.buscar(40))\r\n",
        "bst.transversal(\"preorden\")\r\n",
        "print(\"----------------------------\")\r\n",
        "bst.transversal(\"inorden\")\r\n",
        "print(\"----------------------------\")\r\n",
        "bst.transversal(\"posorden\")"
      ],
      "execution_count": 11,
      "outputs": [
        {
          "output_type": "error",
          "ename": "AttributeError",
          "evalue": "ignored",
          "traceback": [
            "\u001b[0;31m---------------------------------------------------------------------------\u001b[0m",
            "\u001b[0;31mAttributeError\u001b[0m                            Traceback (most recent call last)",
            "\u001b[0;32m<ipython-input-11-8b3362dd9e30>\u001b[0m in \u001b[0;36m<module>\u001b[0;34m()\u001b[0m\n\u001b[1;32m      1\u001b[0m \u001b[0mbst\u001b[0m \u001b[0;34m=\u001b[0m \u001b[0mBinarySearchTree\u001b[0m\u001b[0;34m(\u001b[0m\u001b[0;34m)\u001b[0m\u001b[0;34m\u001b[0m\u001b[0;34m\u001b[0m\u001b[0m\n\u001b[0;32m----> 2\u001b[0;31m \u001b[0mbst\u001b[0m\u001b[0;34m.\u001b[0m\u001b[0minsert\u001b[0m\u001b[0;34m(\u001b[0m\u001b[0;36m50\u001b[0m\u001b[0;34m)\u001b[0m\u001b[0;34m\u001b[0m\u001b[0;34m\u001b[0m\u001b[0m\n\u001b[0m\u001b[1;32m      3\u001b[0m \u001b[0mbst\u001b[0m\u001b[0;34m.\u001b[0m\u001b[0minsert\u001b[0m\u001b[0;34m(\u001b[0m\u001b[0;36m30\u001b[0m\u001b[0;34m)\u001b[0m\u001b[0;34m\u001b[0m\u001b[0;34m\u001b[0m\u001b[0m\n\u001b[1;32m      4\u001b[0m \u001b[0mbst\u001b[0m\u001b[0;34m.\u001b[0m\u001b[0minsert\u001b[0m\u001b[0;34m(\u001b[0m\u001b[0;36m20\u001b[0m\u001b[0;34m)\u001b[0m\u001b[0;34m\u001b[0m\u001b[0;34m\u001b[0m\u001b[0m\n\u001b[1;32m      5\u001b[0m \u001b[0mrest\u001b[0m\u001b[0;34m=\u001b[0m\u001b[0mbst\u001b[0m\u001b[0;34m.\u001b[0m\u001b[0mbuscar\u001b[0m\u001b[0;34m(\u001b[0m\u001b[0;36m20\u001b[0m\u001b[0;34m)\u001b[0m\u001b[0;34m\u001b[0m\u001b[0;34m\u001b[0m\u001b[0m\n",
            "\u001b[0;32m<ipython-input-9-fc11c2e12f20>\u001b[0m in \u001b[0;36minsert\u001b[0;34m(self, value)\u001b[0m\n\u001b[1;32m      4\u001b[0m \u001b[0;34m\u001b[0m\u001b[0m\n\u001b[1;32m      5\u001b[0m   \u001b[0;32mdef\u001b[0m \u001b[0minsert\u001b[0m\u001b[0;34m(\u001b[0m\u001b[0mself\u001b[0m\u001b[0;34m,\u001b[0m \u001b[0mvalue\u001b[0m\u001b[0;34m)\u001b[0m\u001b[0;34m:\u001b[0m\u001b[0;34m\u001b[0m\u001b[0;34m\u001b[0m\u001b[0m\n\u001b[0;32m----> 6\u001b[0;31m     \u001b[0;32mif\u001b[0m \u001b[0mself\u001b[0m\u001b[0;34m.\u001b[0m\u001b[0m__root\u001b[0m \u001b[0;34m==\u001b[0m \u001b[0;32mNone\u001b[0m\u001b[0;34m:\u001b[0m\u001b[0;34m\u001b[0m\u001b[0;34m\u001b[0m\u001b[0m\n\u001b[0m\u001b[1;32m      7\u001b[0m       \u001b[0mself\u001b[0m\u001b[0;34m.\u001b[0m\u001b[0m__root\u001b[0m \u001b[0;34m=\u001b[0m \u001b[0mNodoArbol\u001b[0m\u001b[0;34m(\u001b[0m\u001b[0mvalue\u001b[0m\u001b[0;34m,\u001b[0m \u001b[0;32mNone\u001b[0m\u001b[0;34m,\u001b[0m \u001b[0;32mNone\u001b[0m\u001b[0;34m)\u001b[0m\u001b[0;34m\u001b[0m\u001b[0;34m\u001b[0m\u001b[0m\n\u001b[1;32m      8\u001b[0m     \u001b[0;32melse\u001b[0m\u001b[0;34m:\u001b[0m\u001b[0;34m\u001b[0m\u001b[0;34m\u001b[0m\u001b[0m\n",
            "\u001b[0;31mAttributeError\u001b[0m: 'BinarySearchTree' object has no attribute '_BinarySearchTree__root'"
          ]
        }
      ]
    }
  ]
}