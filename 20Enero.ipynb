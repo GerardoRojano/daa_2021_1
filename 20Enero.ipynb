{
  "nbformat": 4,
  "nbformat_minor": 0,
  "metadata": {
    "colab": {
      "name": "20Enero.ipynb",
      "provenance": [],
      "authorship_tag": "ABX9TyN/xnDZZfD+yrgAyL3Pu31r",
      "include_colab_link": true
    },
    "kernelspec": {
      "name": "python3",
      "display_name": "Python 3"
    }
  },
  "cells": [
    {
      "cell_type": "markdown",
      "metadata": {
        "id": "view-in-github",
        "colab_type": "text"
      },
      "source": [
        "<a href=\"https://colab.research.google.com/github/GerardoRojano/daa_2021_1/blob/master/20Enero.ipynb\" target=\"_parent\"><img src=\"https://colab.research.google.com/assets/colab-badge.svg\" alt=\"Open In Colab\"/></a>"
      ]
    },
    {
      "cell_type": "code",
      "metadata": {
        "id": "lx3sZ0MkbJyl"
      },
      "source": [
        "class NodoArbol:\r\n",
        "  def __init__(self, value, left=None, rigth=None):\r\n",
        "    self.data = value\r\n",
        "    self.left =left\r\n",
        "    self.rigth = rigth"
      ],
      "execution_count": 62,
      "outputs": []
    },
    {
      "cell_type": "code",
      "metadata": {
        "id": "DrPsQhelXiZs"
      },
      "source": [
        "class BinarySearchTree:\r\n",
        "  def __init__(self):\r\n",
        "    self.__root = None\r\n",
        "  \r\n",
        "  def insert(self, value):\r\n",
        "    if self.__root == None:\r\n",
        "      self.__root = NodoArbol(value, None, None)\r\n",
        "    else:\r\n",
        "    \r\n",
        "        self.__insert_nodo__(self.__root, value)\r\n",
        "  \r\n",
        "  def __insert_nodo__(self, nodo, value):\r\n",
        "    if nodo.data == value:\r\n",
        "      pass\r\n",
        "    elif value < nodo.data: # True va a Izquierda\r\n",
        "      if nodo.left == None: # Si hay espacio lo asigna\r\n",
        "        nodo.left = NodoArbol(value, None, None) # Insertamos nodo\r\n",
        "      else:\r\n",
        "        self.__insert_nodo__(nodo.left, value) # Buscar posición en arbol izquierdo\r\n",
        "    else: # Ir a la derecha\r\n",
        "      if nodo.right == None:\r\n",
        "        nodo.right = TreeNode(value)\r\n",
        "      else:\r\n",
        "        self.__insert_nodo__(nodo.right, value)\r\n",
        "  \r\n",
        "  def buscar(self, value):\r\n",
        "    if self.__root == None:\r\n",
        "      return False\r\n",
        "    else:\r\n",
        "      return self.__busca_nodo(self.__root, value)\r\n",
        "  \r\n",
        "  def __busca_nodo(self, nodo, value):\r\n",
        "    if nodo == None:\r\n",
        "      return None\r\n",
        "    elif nodo.data == value:\r\n",
        "      return nodo.data   \r\n",
        "    elif value < nodo.data:\r\n",
        "      return self.__busca_nodo(nodo.left, value)\r\n",
        "    else:\r\n",
        "      return self.__busca_nodo(nodo.rigth, value)\r\n",
        "\r\n",
        "  \r\n",
        "  def transversal(self, format = \"inorden\"):\r\n",
        "    if format == \"inorden\":\r\n",
        "      self.__recorrido_in(self.__root)\r\n",
        "    elif format == \"preorden\":\r\n",
        "      self.__recorrido_pre(self.__root)\r\n",
        "    elif format == \"posorden\":\r\n",
        "      self.__recorrido_pos(self.__root)\r\n",
        "    else:\r\n",
        "      print(\"Formato de recorrido no válido\")\r\n",
        "  \r\n",
        "  def __recorrido_in(self,nodo):\r\n",
        "    if nodo != None:\r\n",
        "      self.__recorrido_pre(nodo.left)\r\n",
        "      print(nodo.data, end=\",\")\r\n",
        "      self.__recorrido_pre(nodo.rigth)\r\n",
        "\r\n",
        "  def __recorrido_pre(self, nodo):\r\n",
        "    if nodo != None:\r\n",
        "      print(nodo.data, end=\",\")\r\n",
        "      self.__recorrido_pre(nodo.left)\r\n",
        "      self.__recorrido_pre(nodo.rigth)\r\n",
        "    \r\n",
        "  def __recorrido_pos(self, nodo):\r\n",
        "    if nodo != None:\r\n",
        "      self.__recorrido_pre(nodo.left)\r\n",
        "      self.__recorrido_pre(nodo.rigth)\r\n",
        "      print(nodo.data, end=\",\")"
      ],
      "execution_count": 74,
      "outputs": []
    },
    {
      "cell_type": "code",
      "metadata": {
        "colab": {
          "base_uri": "https://localhost:8080/"
        },
        "id": "uAELw62NbxFd",
        "outputId": "c9fd3856-eec7-4526-8713-3e2b2dcc11d8"
      },
      "source": [
        "bst = BinarySearchTree()\r\n",
        "bst.insert(50)\r\n",
        "bst.insert(30)\r\n",
        "bst.insert(20)\r\n",
        "res = bst.buscar(30) # true o false\r\n",
        "print(\"Dato : \",res)\r\n",
        "print(bst.buscar(40))\r\n",
        "print(\"recorrido pre:\")\r\n",
        "bst.transversal(format=\"preorden\")\r\n",
        "print(\"recorrido in:\")\r\n",
        "bst.transversal()\r\n",
        "print(\"recorrido pos:\")\r\n",
        "bst.transversal(format=\"posorden\")"
      ],
      "execution_count": 75,
      "outputs": [
        {
          "output_type": "stream",
          "text": [
            "Dato :  30\n",
            "None\n",
            "recorrido pre:\n",
            "50,30,20,recorrido in:\n",
            "30,20,50,recorrido pos:\n",
            "30,20,50,"
          ],
          "name": "stdout"
        }
      ]
    }
  ]
}