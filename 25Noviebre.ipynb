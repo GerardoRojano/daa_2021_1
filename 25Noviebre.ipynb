{
  "nbformat": 4,
  "nbformat_minor": 0,
  "metadata": {
    "colab": {
      "name": "25Noviebre.ipynb",
      "provenance": [],
      "authorship_tag": "ABX9TyOQhMsLX+Q9iMh1DBk8X9GE",
      "include_colab_link": true
    },
    "kernelspec": {
      "name": "python3",
      "display_name": "Python 3"
    }
  },
  "cells": [
    {
      "cell_type": "markdown",
      "metadata": {
        "id": "view-in-github",
        "colab_type": "text"
      },
      "source": [
        "<a href=\"https://colab.research.google.com/github/GerardoRojano/daa_2021_1/blob/master/25Noviebre.ipynb\" target=\"_parent\"><img src=\"https://colab.research.google.com/assets/colab-badge.svg\" alt=\"Open In Colab\"/></a>"
      ]
    },
    {
      "cell_type": "code",
      "metadata": {
        "id": "2YJS3rjknRF-"
      },
      "source": [
        "import re, string, unicodedata\n",
        "import inflect\n",
        "import nltk\n",
        "\n",
        "\n",
        "texto=\"El lema que anima a la Universidad Nacional, Por mi raza hablará el espíritu, revela la vocación humanística con la que fue concebida. El autor de esta célebre frase, José Vasconcelos, asumió la rectoría en 1920, en una época en que las esperanzas de la Revolución aún estaban vivas, había una gran fe en la Patria y el ánimo redentor se extendía en el ambiente.\"\n",
        "textominusculas=texto.lower()\n",
        "words = nltk.word_tokenize(textominusculas)\n",
        "print(words)\n",
        "\n",
        "def remove_non_ascii(words):\n",
        "    new_words = []\n",
        "    for word in words:\n",
        "        new_word = unicodedata.normalize('NFKD', word).encode('ascii', 'ignore').decode('utf-8', 'ignore')\n",
        "        new_words.append(new_word)\n",
        "    return new_words\n",
        "def normalize(words):\n",
        "    words = remove_non_ascii(words)\n",
        "    return words\n",
        "\n",
        "words = normalize(words)\n",
        "print(len(words))\n",
        "print(words)\n",
        "\n",
        "\n",
        "\n"
      ],
      "execution_count": null,
      "outputs": []
    }
  ]
}