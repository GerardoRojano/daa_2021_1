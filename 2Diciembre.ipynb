{
  "nbformat": 4,
  "nbformat_minor": 0,
  "metadata": {
    "colab": {
      "name": "2Diciembre.ipynb",
      "provenance": [],
      "authorship_tag": "ABX9TyP6QbVyXL7O0MWVXMblPlf7",
      "include_colab_link": true
    },
    "kernelspec": {
      "name": "python3",
      "display_name": "Python 3"
    }
  },
  "cells": [
    {
      "cell_type": "markdown",
      "metadata": {
        "id": "view-in-github",
        "colab_type": "text"
      },
      "source": [
        "<a href=\"https://colab.research.google.com/github/GerardoRojano/daa_2021_1/blob/master/2Diciembre.ipynb\" target=\"_parent\"><img src=\"https://colab.research.google.com/assets/colab-badge.svg\" alt=\"Open In Colab\"/></a>"
      ]
    },
    {
      "cell_type": "code",
      "metadata": {
        "id": "J-xhOsbF7iJt"
      },
      "source": [
        "def fnRecinfinita():\n",
        "  print(\"Hola\")\n",
        "  fnRecinfinita()\n"
      ],
      "execution_count": null,
      "outputs": []
    },
    {
      "cell_type": "code",
      "metadata": {
        "id": "JQzu11lI_56h"
      },
      "source": [
        "fnRecinfinita()"
      ],
      "execution_count": null,
      "outputs": []
    },
    {
      "cell_type": "code",
      "metadata": {
        "colab": {
          "base_uri": "https://localhost:8080/"
        },
        "id": "kloosjw9AY7n",
        "outputId": "81242dba-f840-4a95-99a6-a1e91494acf4"
      },
      "source": [
        "def fnRec(x):\n",
        "  if x==0:\n",
        "    print(\"stop\")\n",
        "  else:\n",
        "    print(x)\n",
        "    fnRec(x-1)\n",
        "    \n",
        "\n",
        "def main():\n",
        "  print(\"inicio del programa\")\n",
        "  fnRec(5)\n",
        "  print(\"fin del programa\")\n",
        "\n",
        "main()"
      ],
      "execution_count": 7,
      "outputs": [
        {
          "output_type": "stream",
          "text": [
            "inicio del programa\n",
            "5\n",
            "4\n",
            "3\n",
            "2\n",
            "1\n",
            "stop\n",
            "fin del programa\n"
          ],
          "name": "stdout"
        }
      ]
    },
    {
      "cell_type": "code",
      "metadata": {
        "colab": {
          "base_uri": "https://localhost:8080/"
        },
        "id": "7I7gLlgqBbZQ",
        "outputId": "7361effa-a98f-4ad9-905b-d6aa5e051156"
      },
      "source": [
        "def printRev(x):\n",
        "  if x>0:\n",
        "    \n",
        "    printRev(x-1)\n",
        "    print(x)\n",
        "\n",
        "printRev(3)"
      ],
      "execution_count": 9,
      "outputs": [
        {
          "output_type": "stream",
          "text": [
            "1\n",
            "2\n",
            "3\n"
          ],
          "name": "stdout"
        }
      ]
    },
    {
      "cell_type": "code",
      "metadata": {
        "colab": {
          "base_uri": "https://localhost:8080/"
        },
        "id": "O_EsXWcCJD4U",
        "outputId": "e5ffb09a-1a35-4ee8-af62-8be836225d6c"
      },
      "source": [
        "def fibonacci(n):\n",
        "  if n == 1 or n==0:\n",
        "    return n\n",
        "  else:\n",
        "    return (fibonacci(n-1)+fibonacci(n-2))\n",
        "\n",
        "print(fibonacci(8))"
      ],
      "execution_count": 11,
      "outputs": [
        {
          "output_type": "stream",
          "text": [
            "21\n"
          ],
          "name": "stdout"
        }
      ]
    }
  ]
}