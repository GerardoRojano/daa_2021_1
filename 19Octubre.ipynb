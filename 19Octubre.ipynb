{
  "nbformat": 4,
  "nbformat_minor": 0,
  "metadata": {
    "colab": {
      "name": "19Octubre.ipynb",
      "provenance": [],
      "private_outputs": true,
      "authorship_tag": "ABX9TyMyStWwpDz5egX2ejKBKJ0E",
      "include_colab_link": true
    },
    "kernelspec": {
      "name": "python3",
      "display_name": "Python 3"
    }
  },
  "cells": [
    {
      "cell_type": "markdown",
      "metadata": {
        "id": "view-in-github",
        "colab_type": "text"
      },
      "source": [
        "<a href=\"https://colab.research.google.com/github/GerardoRojano/daa_2021_1/blob/master/19Octubre.ipynb\" target=\"_parent\"><img src=\"https://colab.research.google.com/assets/colab-badge.svg\" alt=\"Open In Colab\"/></a>"
      ]
    },
    {
      "cell_type": "code",
      "metadata": {
        "id": "lKT1X_1_MVoK"
      },
      "source": [
        "a2d =[[3,2,1],[6,4,6],[7,4,2]]\n",
        "n=3\n",
        "print(a2d)\n",
        "n=3\n",
        "total=0\n",
        "print(\"nivel 1\")\n",
        "for r in range(n):\n",
        "  \n",
        "  sumaRenglon=0\n",
        "  print(\"nivel 2\")\n",
        "  for c in range(n):\n",
        "    sumaRenglon+= a2d [r][c]\n",
        "    total+=a2d[r][c]\n",
        "    print(\"nivel 3\")\n",
        "    #print(sumaRenglon)\n",
        "    \n",
        "  \n",
        "  \n",
        "\n",
        "print(total)"
      ],
      "execution_count": null,
      "outputs": []
    }
  ]
}