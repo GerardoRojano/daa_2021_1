{
  "nbformat": 4,
  "nbformat_minor": 0,
  "metadata": {
    "colab": {
      "name": "5Octubre.ipynb",
      "provenance": [],
      "authorship_tag": "ABX9TyPBMjWmNX4go0+odxOGRnJM",
      "include_colab_link": true
    },
    "kernelspec": {
      "name": "python3",
      "display_name": "Python 3"
    }
  },
  "cells": [
    {
      "cell_type": "markdown",
      "metadata": {
        "id": "view-in-github",
        "colab_type": "text"
      },
      "source": [
        "<a href=\"https://colab.research.google.com/github/GerardoRojano/daa_2021_1/blob/master/5Octubre.ipynb\" target=\"_parent\"><img src=\"https://colab.research.google.com/assets/colab-badge.svg\" alt=\"Open In Colab\"/></a>"
      ]
    },
    {
      "cell_type": "markdown",
      "metadata": {
        "id": "T02Mbzj_ABDi"
      },
      "source": [
        "#Estructura de datos pulas (Stack)\n",
        "- Last In Frist Out (LIFO)\n",
        "- De tipo lineal\n",
        "- Se pueden obtener e ingresar datos \n",
        "- push para agregar \n",
        "- pop para sacar \n",
        "##Operaciones de las pulas \n",
        "1. is_empty (regresa true o false)\n",
        "2. det_top(regresa el elementoen el en el tope SIN SACARLO )\n",
        "3. pop(saca el elemento del topo y lo regresa)\n",
        "4. push(mete un elemento en el tope)\n",
        "5. get_length (regresa el numero de elemento de la pila)"
      ]
    },
    {
      "cell_type": "code",
      "metadata": {
        "id": "hnHVop6n_F_d"
      },
      "source": [
        "class Stack:\n",
        "  def __init__(self):\n",
        "    self.__datos=[]\n",
        "\n",
        "  def is_empty(self):\n",
        "    return len(self.__datos) == 0\n",
        "  \n",
        "  def get__top(self):\n",
        "    return self.__datos[-1]#dame el ultimo elemento \n",
        "  \n",
        "  def pop(self):\n",
        "    return self.__datos.pop()\n",
        "\n",
        "  def push(self , valor ):\n",
        "    self.__datos.append(valor)\n",
        "\n",
        "  def get__length(self):\n",
        "    return len(self.__datos)\n",
        "\n",
        "  def to__string( self ):\n",
        "    print(\"|------------|\")\n",
        "    for ele in self.__datos[-1::-1]:\n",
        "      print(f\"{ele}\")\n",
        "    print(\"|------------|\\n\")\n",
        "  \n"
      ],
      "execution_count": 39,
      "outputs": []
    },
    {
      "cell_type": "code",
      "metadata": {
        "id": "JLhPBLOuD6dI",
        "outputId": "8bf70989-bcba-46ea-bf96-8dc82af7e324",
        "colab": {
          "base_uri": "https://localhost:8080/",
          "height": 527
        }
      },
      "source": [
        "pila1=Stack()\n",
        "pila1.push(10)\n",
        "pila1.push(20)\n",
        "pila1.push(1)\n",
        "pila1.push(393)\n",
        "pila1.push(103)\n",
        "pila1.to__string()\n",
        "sacado=pila1.pop()\n",
        "print(sacado)\n",
        "pila1.to__string\n",
        "\n",
        "pila1.push(444)\n",
        "pila1.push(233)\n",
        "pila1.to__string()\n",
        "\n",
        "print(f\"El elemento en el topoe es :{pila1.get__top()}\")\n",
        "pila1.to__string()\n",
        "print(f\"La pila tiene {pila1.get__length()} elementos\")\n",
        "print(f\"La pila esta vacia: {pila1.is_empty()}\")"
      ],
      "execution_count": 40,
      "outputs": [
        {
          "output_type": "stream",
          "text": [
            "|------------|\n",
            "103\n",
            "393\n",
            "1\n",
            "20\n",
            "10\n",
            "|------------|\n",
            "\n",
            "103\n",
            "|------------|\n",
            "233\n",
            "444\n",
            "393\n",
            "1\n",
            "20\n",
            "10\n",
            "|------------|\n",
            "\n",
            "El elemento en el topoe es :233\n",
            "|------------|\n",
            "233\n",
            "444\n",
            "393\n",
            "1\n",
            "20\n",
            "10\n",
            "|------------|\n",
            "\n",
            "La pila tiene 6 elementos\n",
            "La pila esta vacia: False\n"
          ],
          "name": "stdout"
        }
      ]
    },
    {
      "cell_type": "markdown",
      "metadata": {
        "id": "CALG-ohnJ8KJ"
      },
      "source": [
        "#ejempli de aplicacion de pilas\n",
        "\n",
        "X= 4+5+6+3\n",
        "\n",
        "X=4+(5+6)+3\n",
        "\n",
        "X=4+5+6)+3\n",
        "\n",
        "X=(4+(5+6)+3)\n",
        "\n",
        "if(a==b){System.out.println(b)\n",
        "\n",
        "if(a==b){System.out.println(b}\n",
        "#reglas\n",
        "###'(' ---> push('@')\n",
        "###')'--->pop()\n",
        "si al final de recorrido la pila esta vacia, entonces la cadena es correcta \n",
        "Si en un pop desencadena  en querer sacar un elemento de la pila vacia que la cadena no está balanceada \n",
        "\n",
        "\n"
      ]
    },
    {
      "cell_type": "markdown",
      "metadata": {
        "id": "5MAc31kVNKNk"
      },
      "source": [
        "#Tarea\n",
        "Hacer un programa que valide el balanceo ' ( ) ' , ' [ ] ' y ' { } 'en programas del lenguaje C y Java\n",
        "\n",
        "Tomando como base el código de la clase "
      ]
    }
  ]
}