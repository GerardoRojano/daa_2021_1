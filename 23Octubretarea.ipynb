{
  "nbformat": 4,
  "nbformat_minor": 0,
  "metadata": {
    "colab": {
      "name": "23Octubretarea.ipynb",
      "provenance": [],
      "private_outputs": true,
      "authorship_tag": "ABX9TyNasVFtIox1gDCgCMxeKtVd",
      "include_colab_link": true
    },
    "kernelspec": {
      "name": "python3",
      "display_name": "Python 3"
    }
  },
  "cells": [
    {
      "cell_type": "markdown",
      "metadata": {
        "id": "view-in-github",
        "colab_type": "text"
      },
      "source": [
        "<a href=\"https://colab.research.google.com/github/GerardoRojano/daa_2021_1/blob/master/23Octubretarea.ipynb\" target=\"_parent\"><img src=\"https://colab.research.google.com/assets/colab-badge.svg\" alt=\"Open In Colab\"/></a>"
      ]
    },
    {
      "cell_type": "code",
      "metadata": {
        "id": "OeiKicAiR3Wu"
      },
      "source": [
        "from time import time\n",
        "def ejemplo1( n ):\n",
        "    start_time = time()\n",
        "    c = n + 1\n",
        "    d = c * n\n",
        "    e = n * n\n",
        "    total = c + e - d\n",
        "    print(f\"total={ total }\")\n",
        "    elapsed_time = time() - start_time\n",
        "    print(\"Tiempo transcurrido: %0.10f segundos.\" % elapsed_time)\n",
        "  \n",
        "for entrada in range(100,1100,100):\n",
        "  print(entrada)\n",
        "  ejemplo1( entrada)\n",
        "#4"
      ],
      "execution_count": null,
      "outputs": []
    },
    {
      "cell_type": "code",
      "metadata": {
        "id": "oZ8AdgicR_oA"
      },
      "source": [
        "from time import time\n",
        "\n",
        "def ejemplo2( n ):\n",
        "  start_time = time()\n",
        "  contador = 0\n",
        "  for i in range( n ) :\n",
        "   \n",
        "    for j in range( n ) :\n",
        "      contador += 1\n",
        "  elapsed_time = time() - start_time\n",
        "  print(\"Tiempo transcurrido: %0.10f segundos.\" % elapsed_time)\n",
        "  return contador\n",
        "  \n",
        "\n",
        "for entrada in range(100,1100,100):\n",
        "  print(entrada)\n",
        "  ejemplo2( entrada)  \n",
        "\n",
        "#1+n^2"
      ],
      "execution_count": null,
      "outputs": []
    },
    {
      "cell_type": "code",
      "metadata": {
        "id": "06Y4K5pkSFcq"
      },
      "source": [
        "from time import time\n",
        "def ejemplo3(n):\n",
        "  start_time = time()\n",
        "  x=n*2\n",
        "  y=0\n",
        "  for m in range (100):\n",
        "    y=x-n\n",
        "  elapsed_time = time() - start_time\n",
        "  print(\"Tiempo transcurrido: %0.10f segundos.\" % elapsed_time)  \n",
        "  return y \n",
        "  \n",
        "for entrada in range(100,1100,100):\n",
        "  print(entrada)\n",
        "  ejemplo3( entrada)\n",
        "\n",
        "#102"
      ],
      "execution_count": null,
      "outputs": []
    },
    {
      "cell_type": "code",
      "metadata": {
        "id": "Gvt4sH_SSGzv"
      },
      "source": [
        "from time import time\n",
        "def ejemplo4(n):\n",
        "  start_time = time()\n",
        "  x = 3 * 3.1416 + n\n",
        "  y = x + 3 * 3 - n\n",
        "  z = x + y\n",
        "  elapsed_time = time() - start_time\n",
        "  print(\"Tiempo transcurrido: %0.10f segundos.\" % elapsed_time)\n",
        "  return z\n",
        "  \n",
        "for entrada in range(100,1100,100):\n",
        "  print(entrada)\n",
        "  ejemplo4( entrada)\n",
        "#3"
      ],
      "execution_count": null,
      "outputs": []
    },
    {
      "cell_type": "code",
      "metadata": {
        "id": "uF_ugblgSMAI"
      },
      "source": [
        "from time import time\n",
        "def ejemplo5( x ):\n",
        "    start_time = time()\n",
        "    n = 10\n",
        "    for j in range( 0 , x , 1 ):# de 0 ,a x, de 1 en 1\n",
        "        n = j + n\n",
        "    elapsed_time = time() - start_time\n",
        "    print(\"Tiempo transcurrido: %0.10f segundos.\" % elapsed_time)\n",
        "    return n\n",
        "for entrada in range(100,1100,100):\n",
        "  print(entrada)\n",
        "  ejemplo5( entrada)\n",
        "#1+n"
      ],
      "execution_count": null,
      "outputs": []
    },
    {
      "cell_type": "code",
      "metadata": {
        "id": "pCqjvNSzSOoG"
      },
      "source": [
        "from time import time\n",
        "def ejemplo6( n ):\n",
        "    start_time = time()\n",
        "    data=[[[1 for x in range(n)] for x in range(n)]\n",
        "          for x in range(n)]\n",
        "    suma = 0\n",
        "    for d in range(n):\n",
        "        for r in range(n):\n",
        "            for c in range(n):\n",
        "                suma += data[d][r][c]\n",
        "    elapsed_time = time() - start_time\n",
        "    print(\"Tiempo transcurrido: %0.10f segundos.\" % elapsed_time)\n",
        "    return suma\n",
        "    \n",
        "\n",
        "#2+n^3\n",
        "for entrada in range(100,1100,100):\n",
        "  print(entrada)\n",
        "  ejemplo6( entrada)"
      ],
      "execution_count": null,
      "outputs": []
    }
  ]
}