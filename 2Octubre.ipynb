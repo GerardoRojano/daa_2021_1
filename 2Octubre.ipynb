{
  "nbformat": 4,
  "nbformat_minor": 0,
  "metadata": {
    "colab": {
      "name": "2Octubre.ipynb",
      "provenance": [],
      "collapsed_sections": [],
      "authorship_tag": "ABX9TyPJCkWT0pGqhI0P4Kw/ozvg",
      "include_colab_link": true
    },
    "kernelspec": {
      "name": "python3",
      "display_name": "Python 3"
    }
  },
  "cells": [
    {
      "cell_type": "markdown",
      "metadata": {
        "id": "view-in-github",
        "colab_type": "text"
      },
      "source": [
        "<a href=\"https://colab.research.google.com/github/GerardoRojano/daa_2021_1/blob/master/2Octubre.ipynb\" target=\"_parent\"><img src=\"https://colab.research.google.com/assets/colab-badge.svg\" alt=\"Open In Colab\"/></a>"
      ]
    },
    {
      "cell_type": "markdown",
      "metadata": {
        "id": "T2bC9pHVh6Yx"
      },
      "source": [
        "## Meteorología en México\n",
        "En Sistema meteorológico nacional lleva el registro de la lluvias desde el año 1985 y lo pone a disposición de la población por medio de la pagina datos.gob.mx.\n",
        "\n",
        "En la siguiente liga se encuentran 2  archivos separados por comas CSV correspondientes a los registros de lluvias\n",
        "mensuales y anuales de los años 2017 y 2018. En los columnas se encuentran 13,  correspondientes al promedio mensual y el promedio anual.\n",
        "En los renglones se encuentran 33, correspondientes a cada uno de los 32 estados y a nivel nacional.\n",
        "\n",
        "https://drive.google.com/file/d/1lamkxgq2AsXRu81Y4JTNXLVld4og7nxt/view?usp=sharing\n",
        "\n",
        "\n",
        "## Planteamiento del problema\n",
        "Diseñar un algoritmo y programarlo para que:\n",
        "1. Solicite por teclado el año, el estado y el mes, en base a esa información:\n",
        "- muestre en pantalla el promedio de ese mes en ese estado en el año seleccionado.\n",
        "- muestre en pantalla el promedio anual del  estado seleccionado.\n",
        "- muestre la suma de los 12 meses de ese estado en el año seleccionado.\n",
        "\n",
        "2. Busque el mes que mas llovió en todos los estados durante esos dos años. Imprimir año, estado y mes.\n",
        "3. Busque el mes que menos llovió en los dos. Imprimir año, estado y mes."
      ]
    },
    {
      "cell_type": "code",
      "metadata": {
        "id": "uMlW1nIShnmb",
        "outputId": "6e095f88-5108-40bf-cdeb-d7e0717f51e4",
        "colab": {
          "resources": {
            "http://localhost:8080/nbextensions/google.colab/files.js": {
              "data": "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",
              "ok": true,
              "headers": [
                [
                  "content-type",
                  "application/javascript"
                ]
              ],
              "status": 200,
              "status_text": ""
            }
          },
          "base_uri": "https://localhost:8080/",
          "height": 160
        }
      },
      "source": [
        "from google.colab import files\n",
        "files.upload()"
      ],
      "execution_count": 3,
      "outputs": [
        {
          "output_type": "display_data",
          "data": {
            "text/html": [
              "\n",
              "     <input type=\"file\" id=\"files-a6ff1ef6-015d-47d6-9a8b-47957328da6d\" name=\"files[]\" multiple disabled\n",
              "        style=\"border:none\" />\n",
              "     <output id=\"result-a6ff1ef6-015d-47d6-9a8b-47957328da6d\">\n",
              "      Upload widget is only available when the cell has been executed in the\n",
              "      current browser session. Please rerun this cell to enable.\n",
              "      </output>\n",
              "      <script src=\"/nbextensions/google.colab/files.js\"></script> "
            ],
            "text/plain": [
              "<IPython.core.display.HTML object>"
            ]
          },
          "metadata": {
            "tags": []
          }
        },
        {
          "output_type": "stream",
          "text": [
            "Saving 2017Precip.csv to 2017Precip.csv\n",
            "Saving 2018Precip.csv to 2018Precip.csv\n"
          ],
          "name": "stdout"
        },
        {
          "output_type": "execute_result",
          "data": {
            "text/plain": [
              "{'2017Precip.csv': b'2017,PRECIPITACI\\xeeN A NIVEL NACIONAL Y POR ENTIDAD FEDERATIVA,,,,,,,,,,,,\\r\\nENTIDAD,ENE,FEB,MAR,ABR,MAY,JUN,JUL,AGO,SEP,OCT,NOV,DIC,ANUAL\\r\\nAGUASCALIENTES,0.4 ,2.1 ,6.7 ,0.4 ,4.2 ,43.5 ,169.3 ,143.8 ,159.5 ,21.8 ,0.1 ,27.6 ,579.4 \\r\\nBAJA CALIFORNIA,53.6 ,44.9 ,1.4 ,0.0 ,7.9 ,0.2 ,2.9 ,7.1 ,9.6 ,0.0 ,1.4 ,2.8 ,131.7 \\r\\nBAJA CALIFORNIA SUR,8.4 ,18.4 ,0.5 ,0.1 ,1.6 ,1.9 ,12.1 ,68.3 ,59.0 ,0.6 ,0.2 ,3.7 ,174.7 \\r\\nCAMPECHE,16.1 ,6.9 ,9.1 ,65.1 ,49.7 ,363.6 ,169.2 ,202.8 ,229.8 ,221.7 ,33.4 ,40.1 ,\"1,407.3 \"\\r\\nCOAHUILA,2.6 ,11.1 ,15.1 ,23.0 ,40.6 ,22.6 ,37.8 ,45.1 ,108.3 ,15.2 ,1.9 ,35.6 ,358.5 \\r\\nCOLIMA,0.0 ,2.8 ,1.2 ,0.0 ,1.7 ,197.4 ,287.4 ,560.3 ,528.0 ,142.7 ,0.1 ,7.3 ,\"1,728.8 \"\\r\\nCHIAPAS,36.8 ,8.1 ,23.1 ,64.0 ,262.3 ,409.4 ,254.3 ,249.2 ,401.7 ,228.8 ,37.9 ,18.4 ,\"1,994.0 \"\\r\\nCHIHUAHUA,12.3 ,8.1 ,6.1 ,3.4 ,10.4 ,20.6 ,153.3 ,122.1 ,58.8 ,14.4 ,1.7 ,42.7 ,453.8 \\r\\nDISTRITO FEDERAL,0.0 ,0.0 ,18.1 ,12.9 ,48.9 ,86.2 ,101.7 ,101.3 ,86.8 ,31.4 ,0.6 ,0.0 ,488.0 \\r\\nDURANGO,1.3 ,7.8 ,13.3 ,1.4 ,4.7 ,12.5 ,121.7 ,139.3 ,97.3 ,34.1 ,0.0 ,21.2 ,454.6 \\r\\nGUANAJUATO,0.2 ,1.5 ,14.2 ,6.0 ,17.2 ,108.3 ,173.7 ,131.4 ,143.7 ,14.6 ,0.3 ,0.4 ,611.5 \\r\\nGUERRERO,0.2 ,0.2 ,2.1 ,3.2 ,90.2 ,223.9 ,162.6 ,230.4 ,369.4 ,71.7 ,6.7 ,0.4 ,\"1,161.1 \"\\r\\nHIDALGO,3.1 ,5.0 ,20.7 ,16.5 ,51.2 ,69.2 ,95.1 ,88.9 ,182.1 ,109.6 ,4.9 ,6.9 ,653.2 \\r\\nJALISCO,0.3 ,2.9 ,6.5 ,0.1 ,6.8 ,101.8 ,233.3 ,266.8 ,247.4 ,59.4 ,0.9 ,19.8 ,946.1 \\r\\nESTADO DE M\\x83XICO,0.1 ,1.1 ,17.0 ,14.3 ,86.6 ,119.7 ,174.5 ,209.5 ,186.3 ,53.0 ,3.3 ,0.1 ,865.4 \\r\\nMICHOAC\\xe7N,0.1 ,1.0 ,14.6 ,1.8 ,29.5 ,116.1 ,159.4 ,228.4 ,190.9 ,50.2 ,0.4 ,0.3 ,792.8 \\r\\nMORELOS,0.0 ,0.1 ,14.7 ,13.5 ,174.9 ,386.0 ,320.4 ,517.2 ,441.1 ,81.7 ,0.0 ,0.0 ,\"1,949.5 \"\\r\\nNAYARIT,0.5 ,11.0 ,1.5 ,0.1 ,1.1 ,62.6 ,279.1 ,346.5 ,392.7 ,102.4 ,0.3 ,30.6 ,\"1,228.3 \"\\r\\nNUEVO LE\\xeeN,10.2 ,7.4 ,50.6 ,45.0 ,60.7 ,45.6 ,31.0 ,40.6 ,172.1 ,64.9 ,7.8 ,34.2 ,570.0 \\r\\nOAXACA,6.1 ,5.7 ,16.4 ,28.0 ,156.8 ,355.6 ,183.0 ,207.0 ,320.0 ,141.8 ,13.3 ,7.0 ,\"1,440.8 \"\\r\\nPUEBLA,4.4 ,8.0 ,32.3 ,37.4 ,130.5 ,217.0 ,204.3 ,311.3 ,322.5 ,114.8 ,12.0 ,7.9 ,\"1,402.3 \"\\r\\nQUER\\x83TARO,0.7 ,2.0 ,20.9 ,17.7 ,29.6 ,83.2 ,107.9 ,92.2 ,168.0 ,67.4 ,1.3 ,1.8 ,592.7 \\r\\nQUINTANA ROO,30.5 ,9.5 ,25.6 ,76.5 ,64.1 ,241.0 ,111.0 ,205.1 ,240.0 ,255.2 ,94.0 ,54.3 ,\"1,406.8 \"\\r\\nSAN LUIS POTOS\\xea,1.7 ,3.6 ,28.1 ,25.2 ,40.9 ,62.5 ,118.1 ,96.3 ,145.0 ,85.8 ,1.4 ,9.1 ,617.7 \\r\\nSINALOA,3.8 ,30.2 ,3.6 ,0.5 ,0.7 ,12.5 ,169.5 ,248.3 ,162.9 ,49.0 ,0.1 ,17.6 ,698.8 \\r\\nSONORA,41.6 ,31.3 ,0.5 ,0.5 ,4.8 ,12.5 ,182.9 ,93.9 ,39.4 ,4.3 ,2.5 ,36.7 ,450.6 \\r\\nTABASCO,84.3 ,32.4 ,61.1 ,97.6 ,143.2 ,285.5 ,157.5 ,207.3 ,377.5 ,414.0 ,98.2 ,55.4 ,\"2,013.8 \"\\r\\nTAMAULIPAS,8.3 ,14.9 ,57.9 ,36.2 ,70.8 ,61.7 ,79.0 ,68.3 ,129.2 ,113.9 ,12.2 ,14.2 ,666.7 \\r\\nTLAXCALA,0.4 ,0.4 ,19.4 ,21.2 ,79.9 ,98.5 ,146.6 ,167.4 ,123.6 ,30.3 ,2.4 ,0.2 ,690.3 \\r\\nVERACRUZ,36.9 ,32.6 ,65.4 ,35.3 ,110.0 ,181.7 ,245.1 ,199.7 ,429.0 ,314.9 ,43.3 ,37.1 ,\"1,731.0 \"\\r\\nYUCAT\\xe7N,19.5 ,2.1 ,7.5 ,51.7 ,48.4 ,229.9 ,141.7 ,160.3 ,228.1 ,154.8 ,37.9 ,38.7 ,\"1,120.5 \"\\r\\nZACATECAS,0.4 ,1.3 ,18.8 ,2.6 ,10.7 ,30.7 ,134.1 ,113.5 ,111.3 ,16.3 ,0.3 ,27.2 ,467.2 \\r\\nNACIONAL,14.6 ,12.7 ,16.6 ,18.5 ,48.1 ,102.7 ,140.9 ,145.9 ,169.8 ,77.0 ,10.7 ,24.4 ,781.6 \\r\\n,,,,,,,,,,,,,',\n",
              " '2018Precip.csv': b'2018,PRECIPITACI\\xeeN A NIVEL NACIONAL Y POR ENTIDAD FEDERATIVA,,,,,,,,,,,,\\r\\nENTIDAD,ENE,FEB,MAR,ABR,MAY,JUN,JUL,AGO,SEP,OCT,NOV,DIC,ANUAL\\r\\nAGUASCALIENTES,35.5 ,28.6 ,0.0 ,10.6 ,44.7 ,226.2 ,77.7 ,97.3 ,123.1 ,83.3 ,40.5 ,1.2 ,768.7 \\r\\nBAJA CALIFORNIA,14.4 ,12.8 ,4.8 ,0.3 ,0.4 ,0.6 ,3.9 ,5.5 ,7.5 ,40.7 ,9.9 ,24.7 ,125.3 \\r\\nBAJA CALIFORNIA SUR,0.6 ,9.1 ,0.0 ,0.0 ,0.0 ,15.3 ,6.9 ,19.6 ,76.6 ,21.5 ,0.5 ,13.0 ,163.2 \\r\\nCAMPECHE,105.7 ,19.2 ,15.5 ,120.0 ,45.8 ,160.5 ,164.1 ,241.5 ,202.1 ,160.9 ,127.2 ,27.4 ,\"1,389.8 \"\\r\\nCOAHUILA,0.7 ,7.0 ,2.4 ,7.2 ,11.7 ,30.8 ,29.0 ,41.0 ,172.8 ,67.4 ,7.7 ,19.3 ,396.8 \\r\\nCOLIMA,5.2 ,2.6 ,0.0 ,0.0 ,19.0 ,317.3 ,140.5 ,298.9 ,337.0 ,292.3 ,198.3 ,0.6 ,\"1,611.7 \"\\r\\nCHIAPAS,99.6 ,20.0 ,30.1 ,101.7 ,165.2 ,237.8 ,117.8 ,257.0 ,301.0 ,224.9 ,118.4 ,31.7 ,\"1,705.3 \"\\r\\nCHIHUAHUA,0.1 ,19.2 ,1.8 ,0.9 ,4.4 ,45.9 ,97.1 ,122.4 ,110.4 ,52.0 ,3.3 ,33.1 ,490.8 \\r\\nDISTRITO FEDERAL,7.9 ,7.7 ,12.2 ,44.5 ,59.1 ,127.4 ,85.9 ,198.2 ,120.7 ,86.8 ,31.1 ,4.8 ,786.2 \\r\\nDURANGO,2.4 ,12.2 ,0.1 ,1.7 ,8.3 ,72.1 ,63.9 ,89.8 ,168.8 ,70.8 ,8.8 ,21.7 ,520.5 \\r\\nGUANAJUATO,3.5 ,13.8 ,0.8 ,12.6 ,52.1 ,268.6 ,70.3 ,146.3 ,165.2 ,65.5 ,50.4 ,1.2 ,850.3 \\r\\nGUERRERO,1.7 ,2.0 ,1.4 ,13.3 ,60.8 ,280.3 ,93.7 ,256.6 ,197.1 ,188.7 ,58.9 ,4.5 ,\"1,159.0 \"\\r\\nHIDALGO,27.1 ,15.2 ,14.8 ,48.6 ,29.5 ,111.5 ,40.9 ,79.6 ,72.4 ,93.3 ,35.2 ,6.6 ,574.6 \\r\\nJALISCO,14.8 ,16.2 ,0.1 ,2.2 ,57.7 ,201.4 ,147.8 ,206.9 ,201.6 ,149.8 ,75.9 ,1.7 ,\"1,075.9 \"\\r\\nESTADO DE M\\x83XICO,11.5 ,17.5 ,6.8 ,41.7 ,89.5 ,241.2 ,112.6 ,223.9 ,172.2 ,112.6 ,64.5 ,4.8 ,\"1,098.7 \"\\r\\nMICHOAC\\xe7N,15.4 ,16.2 ,0.4 ,6.6 ,80.1 ,246.8 ,118.8 ,215.0 ,161.9 ,147.4 ,100.9 ,4.8 ,\"1,114.1 \"\\r\\nMORELOS,1.6 ,2.6 ,4.0 ,58.3 ,166.6 ,565.0 ,104.9 ,459.3 ,312.8 ,213.6 ,74.4 ,0.6 ,\"1,963.7 \"\\r\\nNAYARIT,3.5 ,4.1 ,0.0 ,0.2 ,7.2 ,171.8 ,219.4 ,367.8 ,379.4 ,168.6 ,30.5 ,3.9 ,\"1,356.4 \"\\r\\nNUEVO LE\\xeeN,16.5 ,18.0 ,3.6 ,53.8 ,47.9 ,82.0 ,37.8 ,21.3 ,226.9 ,46.6 ,14.2 ,16.6 ,585.2 \\r\\nOAXACA,25.0 ,13.6 ,20.5 ,49.3 ,73.2 ,231.7 ,86.2 ,208.4 ,178.6 ,257.9 ,44.1 ,28.6 ,\"1,217.1 \"\\r\\nPUEBLA,32.4 ,14.3 ,29.7 ,84.6 ,72.1 ,260.1 ,76.9 ,238.8 ,173.1 ,167.3 ,84.8 ,13.6 ,\"1,247.7 \"\\r\\nQUER\\x83TARO,9.2 ,10.0 ,2.8 ,24.1 ,39.5 ,161.8 ,31.4 ,71.7 ,110.2 ,58.6 ,31.1 ,3.8 ,554.1 \\r\\nQUINTANA ROO,89.8 ,19.1 ,50.0 ,78.0 ,160.6 ,230.2 ,90.7 ,129.5 ,146.8 ,162.3 ,82.2 ,67.0 ,\"1,306.1 \"\\r\\nSAN LUIS POTOS\\xea,19.5 ,20.8 ,7.3 ,41.6 ,47.4 ,131.6 ,25.1 ,67.0 ,164.1 ,74.6 ,30.9 ,5.5 ,635.4 \\r\\nSINALOA,0.4 ,14.7 ,0.1 ,0.1 ,0.6 ,98.3 ,148.5 ,291.1 ,320.4 ,70.5 ,5.6 ,51.1 ,\"1,001.3 \"\\r\\nSONORA,1.6 ,34.3 ,0.9 ,0.1 ,0.3 ,43.1 ,120.1 ,147.8 ,109.0 ,81.8 ,1.0 ,25.9 ,565.9 \\r\\nTABASCO,323.9 ,58.3 ,49.3 ,109.5 ,59.5 ,129.9 ,109.5 ,195.7 ,218.1 ,253.7 ,358.8 ,99.4 ,\"1,965.5 \"\\r\\nTAMAULIPAS,27.3 ,12.4 ,12.2 ,79.0 ,62.6 ,124.7 ,26.2 ,29.4 ,203.5 ,75.3 ,18.4 ,6.9 ,678.0 \\r\\nTLAXCALA,5.6 ,10.3 ,5.7 ,65.8 ,45.7 ,149.4 ,52.1 ,124.6 ,88.4 ,64.2 ,46.9 ,3.3 ,662.0 \\r\\nVERACRUZ,112.7 ,37.2 ,57.4 ,90.1 ,35.1 ,154.0 ,120.6 ,218.0 ,197.6 ,332.5 ,93.8 ,67.1 ,\"1,516.1 \"\\r\\nYUCAT\\xe7N,55.2 ,5.8 ,15.1 ,57.1 ,118.8 ,170.0 ,97.3 ,159.2 ,137.3 ,87.0 ,67.4 ,28.5 ,998.7 \\r\\nZACATECAS,24.3 ,22.8 ,0.2 ,6.9 ,27.4 ,126.4 ,55.6 ,82.6 ,179.4 ,60.1 ,23.8 ,5.0 ,614.5 \\r\\nNACIONAL,25.7 ,17.6 ,9.1 ,28.3 ,39.0 ,121.5 ,83.8 ,139.1 ,166.0 ,110.7 ,39.6 ,23.4 ,803.7 \\r\\n,,,,,,,,,,,,,'}"
            ]
          },
          "metadata": {
            "tags": []
          },
          "execution_count": 3
        }
      ]
    },
    {
      "cell_type": "code",
      "metadata": {
        "id": "qNpvVUg9s1PK",
        "outputId": "bc6eb604-72fc-4462-f1c4-65c85d91b0b5",
        "colab": {
          "base_uri": "https://localhost:8080/",
          "height": 1000
        }
      },
      "source": [
        "import pandas as pd\n",
        "datos=pd.read_csv('2017Precip.csv',encoding='latin')\n",
        "datos2=pd.read_csv('2018Precip.csv',encoding='latin')\n",
        "print(\"En que año quieres buscar\")\n",
        "año =int(input())\n",
        "if año==2017:\n",
        "  print(datos)\n",
        "  print(\"que estado quieres ver \")\n",
        "  estado=str(input().upper())\n",
        "  e=datos[datos['2017']==estado]\n",
        "  print(e)\n",
        "  print(\"Que mes buscas ENE, FEB, MAR, ABR, MAY, JUN, JUL, AGO, SEP, OCT, DIC \")\n",
        "  mes=str(input().upper())\n",
        "  if mes==\"ENE\":\n",
        "    print(datos[datos['2017']==estado]['PRECIPITACIîN A NIVEL NACIONAL Y POR ENTIDAD FEDERATIVA'])\n",
        "  if mes==\"FEB\":\n",
        "    print(datos[datos['2017']==estado]['Unnamed: 2'])\n",
        "  if mes==\"MAR\":\n",
        "    print(datos[datos['2017']==estado]['Unnamed: 3'])\n",
        "  if mes==\"ABR\":\n",
        "    print(datos[datos['2017']==estado]['Unnamed: 4'])\n",
        "  if mes==\"MAY\":\n",
        "    print(datos[datos['2017']==estado]['Unnamed: 5'])\n",
        "  if mes==\"JUN\":\n",
        "    print(datos[datos['2017']==estado]['Unnamed: 6'])\n",
        "  if mes==\"JUL\":\n",
        "    print(datos[datos['2017']==estado]['Unnamed: 7'])\n",
        "  if mes==\"AGO\":\n",
        "    print(datos[datos['2017']==estado]['Unnamed: 8'])\n",
        "  if mes==\"SEP\":\n",
        "    print(datos[datos['2017']==estado]['Unnamed: 9'])\n",
        "  if mes==\"OCT\":\n",
        "    print(datos[datos['2017']==estado]['Unnamed: 10'])\n",
        "  if mes==\"NOV\":\n",
        "    print(datos[datos['2017']==estado]['Unnamed: 11'])\n",
        "  if mes==\"DIC\":\n",
        "    print(datos[datos['2017']==estado]['Unnamed: 12'])\n",
        "\n",
        "\n",
        "a=float(datos[datos['2017']==estado]['PRECIPITACIîN A NIVEL NACIONAL Y POR ENTIDAD FEDERATIVA'])\n",
        "b=float(datos[datos['2017']==estado]['Unnamed: 2'])\n",
        "c=float(datos[datos['2017']==estado]['Unnamed: 3'])\n",
        "d=float(datos[datos['2017']==estado]['Unnamed: 4'])\n",
        "f=float(datos[datos['2017']==estado]['Unnamed: 5'])\n",
        "g=float(datos[datos['2017']==estado]['Unnamed: 6'])\n",
        "h=float(datos[datos['2017']==estado]['Unnamed: 7'])\n",
        "i=float(datos[datos['2017']==estado]['Unnamed: 8'])\n",
        "j=float(datos[datos['2017']==estado]['Unnamed: 9'])\n",
        "k=float(datos[datos['2017']==estado]['Unnamed: 10'])\n",
        "l=float(datos[datos['2017']==estado]['Unnamed: 11'])\n",
        "m=float(datos[datos['2017']==estado]['Unnamed: 12'])\n",
        "prom=float(a+b+c+d+f+g+h+i+j+k+l+m)\n",
        "promaxu=prom/12\n",
        "print(\"Promedio anual del estado seleccionado\")\n",
        "print(\"{:.1f}\".format(promaxu))\n",
        "print(\"Suma de anual del estado\")\n",
        "print((datos[datos['2017']==estado]['Unnamed: 13'])) \n",
        "\n",
        "if año==2018:\n",
        "  print(datos2)\n",
        "  print(\"que estado quieres ver \")\n",
        "  estado2=str(input().upper())\n",
        "  e2=datos2[datos2['2018']==estado2]\n",
        "  print(e2)\n",
        "  print(\"Que mes buscas ENE, FEB, MAR, ABR, MAY, JUN, JUL, AGO, SEP, OCT, DIC \")\n",
        "  mes2=str(input().upper())\n",
        "  if mes2==\"ENE\":\n",
        "    print(datos2[datos2['2018']==estado2]['PRECIPITACIîN A NIVEL NACIONAL Y POR ENTIDAD FEDERATIVA'])\n",
        "  if mes2==\"FEB\":\n",
        "    print(datos2[datos2['2018']==estado2]['Unnamed: 2'])\n",
        "  if mes2==\"MAR\":\n",
        "    print(datos2[datos2['2018']==estado2]['Unnamed: 3'])\n",
        "  if mes2==\"ABR\":\n",
        "    print(datos2[datos2['2018']==estado2]['Unnamed: 4'])\n",
        "  if mes2==\"MAY\":\n",
        "    print(datos2[datos2['2018']==estado2]['Unnamed: 5'])\n",
        "  if mes2==\"JUN\":\n",
        "    print(datos2[datos2['2018']==estado2]['Unnamed: 6'])\n",
        "  if mes2==\"JUL\":\n",
        "    print(datos2[datos2['2018']==estado2]['Unnamed: 7'])\n",
        "  if mes2==\"AGO\":\n",
        "    print(datos2[datos2['2018']==estado2]['Unnamed: 8'])\n",
        "  if mes2==\"SEP\":\n",
        "    print(datos2[datos2['2018']==estado2]['Unnamed: 9'])\n",
        "  if mes2==\"OCT\":\n",
        "    print(datos2[datos2['2018']==estado2]['Unnamed: 10'])\n",
        "  if mes2==\"NOV\":\n",
        "    print(datos2[datos2['2018']==estado2]['Unnamed: 11'])\n",
        "  if mes2==\"DIC\":\n",
        "    print(datos2[datos2['2018']==estado2]['Unnamed: 12'])\n",
        "a=float(datos2[datos2['2018']==estado2]['PRECIPITACIîN A NIVEL NACIONAL Y POR ENTIDAD FEDERATIVA'])\n",
        "b=float(datos2[datos2['2018']==estado2]['Unnamed: 2'])\n",
        "c=float(datos2[datos2['2018']==estado2]['Unnamed: 3'])\n",
        "d=float(datos2[datos2['2018']==estado2]['Unnamed: 4'])\n",
        "f=float(datos2[datos2['2018']==estado2]['Unnamed: 5'])\n",
        "g=float(datos2[datos2['2018']==estado2]['Unnamed: 6'])\n",
        "h=float(datos2[datos2['2018']==estado2]['Unnamed: 7'])\n",
        "i=float(datos2[datos2['2018']==estado2]['Unnamed: 8'])\n",
        "j=float(datos2[datos2['2018']==estado2]['Unnamed: 9'])\n",
        "k=float(datos2[datos2['2018']==estado2]['Unnamed: 10'])\n",
        "l=float(datos2[datos2['2018']==estado2]['Unnamed: 11'])\n",
        "m=float(datos2[datos2['2018']==estado2]['Unnamed: 12'])\n",
        "prom2=float(a+b+c+d+f+g+h+i+j+k+l+m)\n",
        "promaxu2=prom2/12\n",
        "print(\"Promedio anual del estado seleccionado\")\n",
        "print(\"{:.1f}\".format(promaxu2))\n",
        "print(\"Suma de anual del estado\")\n",
        "print((datos2[datos2['2018']==estado2]['Unnamed: 13'])) \n",
        "\n",
        "\n"
      ],
      "execution_count": 48,
      "outputs": [
        {
          "output_type": "stream",
          "text": [
            "En que año quieres buscar\n",
            "2018\n",
            "Promedio anual del estado seleccionado\n",
            "37.6\n",
            "26    450.6 \n",
            "Name: Unnamed: 13, dtype: object\n",
            "                   2018  ... Unnamed: 13\n",
            "0               ENTIDAD  ...       ANUAL\n",
            "1        AGUASCALIENTES  ...      768.7 \n",
            "2       BAJA CALIFORNIA  ...      125.3 \n",
            "3   BAJA CALIFORNIA SUR  ...      163.2 \n",
            "4              CAMPECHE  ...    1,389.8 \n",
            "5              COAHUILA  ...      396.8 \n",
            "6                COLIMA  ...    1,611.7 \n",
            "7               CHIAPAS  ...    1,705.3 \n",
            "8             CHIHUAHUA  ...      490.8 \n",
            "9      DISTRITO FEDERAL  ...      786.2 \n",
            "10              DURANGO  ...      520.5 \n",
            "11           GUANAJUATO  ...      850.3 \n",
            "12             GUERRERO  ...    1,159.0 \n",
            "13              HIDALGO  ...      574.6 \n",
            "14              JALISCO  ...    1,075.9 \n",
            "15     ESTADO DE MXICO  ...    1,098.7 \n",
            "16            MICHOACçN  ...    1,114.1 \n",
            "17              MORELOS  ...    1,963.7 \n",
            "18              NAYARIT  ...    1,356.4 \n",
            "19           NUEVO LEîN  ...      585.2 \n",
            "20               OAXACA  ...    1,217.1 \n",
            "21               PUEBLA  ...    1,247.7 \n",
            "22            QUERTARO  ...      554.1 \n",
            "23         QUINTANA ROO  ...    1,306.1 \n",
            "24      SAN LUIS POTOSê  ...      635.4 \n",
            "25              SINALOA  ...    1,001.3 \n",
            "26               SONORA  ...      565.9 \n",
            "27              TABASCO  ...    1,965.5 \n",
            "28           TAMAULIPAS  ...      678.0 \n",
            "29             TLAXCALA  ...      662.0 \n",
            "30             VERACRUZ  ...    1,516.1 \n",
            "31              YUCATçN  ...      998.7 \n",
            "32            ZACATECAS  ...      614.5 \n",
            "33             NACIONAL  ...      803.7 \n",
            "34                  NaN  ...         NaN\n",
            "\n",
            "[35 rows x 14 columns]\n",
            "que estado quieres ver \n",
            "sonora\n",
            "      2018  ... Unnamed: 13\n",
            "26  SONORA  ...      565.9 \n",
            "\n",
            "[1 rows x 14 columns]\n",
            "Que mes buscas ENE, FEB, MAR, ABR, MAY, JUN, JUL, AGO, SEP, OCT, DIC \n",
            "ene\n",
            "26    1.6 \n",
            "Name: PRECIPITACIîN A NIVEL NACIONAL Y POR ENTIDAD FEDERATIVA, dtype: object\n",
            "Promedio anual del estado seleccionado\n",
            "47.2\n",
            "26    565.9 \n",
            "Name: Unnamed: 13, dtype: object\n"
          ],
          "name": "stdout"
        }
      ]
    }
  ]
}