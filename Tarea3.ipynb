{
  "nbformat": 4,
  "nbformat_minor": 0,
  "metadata": {
    "colab": {
      "name": "Tarea3.ipynb",
      "provenance": [],
      "authorship_tag": "ABX9TyNuSJoQINWT3hmkHnOOZV98",
      "include_colab_link": true
    },
    "kernelspec": {
      "name": "python3",
      "display_name": "Python 3"
    }
  },
  "cells": [
    {
      "cell_type": "markdown",
      "metadata": {
        "id": "view-in-github",
        "colab_type": "text"
      },
      "source": [
        "<a href=\"https://colab.research.google.com/github/GerardoRojano/daa_2021_1/blob/master/Tarea3.ipynb\" target=\"_parent\"><img src=\"https://colab.research.google.com/assets/colab-badge.svg\" alt=\"Open In Colab\"/></a>"
      ]
    },
    {
      "cell_type": "code",
      "metadata": {
        "id": "EngAcYJVjc4E"
      },
      "source": [
        "import numpy as np\n",
        "\n",
        "a2d=np.reshape(np.array(range(1,26)),(5,5))\n",
        "print(a2d)\n",
        "\n",
        "total =0\n",
        "\n",
        "\n",
        "\n",
        "for r in range(5):\n",
        "  \n",
        "  suma_renglon=0\n",
        "  for c in range(5):\n",
        "    suma_renglon+=a2d[r,c]\n",
        "    \n",
        "  total+=suma_renglon\n",
        "  print(suma_renglon)\n",
        "\n",
        "print(total)\n"
      ],
      "execution_count": null,
      "outputs": []
    }
  ]
}