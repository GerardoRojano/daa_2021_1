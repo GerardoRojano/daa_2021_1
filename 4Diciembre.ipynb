{
  "nbformat": 4,
  "nbformat_minor": 0,
  "metadata": {
    "colab": {
      "name": "4Diciembre.ipynb",
      "provenance": [],
      "authorship_tag": "ABX9TyN9vAIfL1nF2rdH3u7XtUqs",
      "include_colab_link": true
    },
    "kernelspec": {
      "display_name": "Python 3",
      "name": "python3"
    }
  },
  "cells": [
    {
      "cell_type": "markdown",
      "metadata": {
        "id": "view-in-github",
        "colab_type": "text"
      },
      "source": [
        "<a href=\"https://colab.research.google.com/github/GerardoRojano/daa_2021_1/blob/master/4Diciembre.ipynb\" target=\"_parent\"><img src=\"https://colab.research.google.com/assets/colab-badge.svg\" alt=\"Open In Colab\"/></a>"
      ]
    },
    {
      "cell_type": "markdown",
      "metadata": {
        "id": "GB6lgoJEZgyj"
      },
      "source": [
        "1. Crear una lista de enteros en Python y realizar la suma con recursividad, el caso base es cuando la lista este vacía.\n",
        "2. Hacer un contador regresivo con recursión.\n",
        "3. Sacar de un ADT pila el valor en la posición media"
      ]
    },
    {
      "cell_type": "code",
      "metadata": {
        "id": "4VmQclSM5yxG",
        "colab": {
          "base_uri": "https://localhost:8080/"
        },
        "outputId": "723eadb5-31cc-468e-f5f5-7295fcb5c76b"
      },
      "source": [
        "def sumaLista(lista):\n",
        "  if len(lista)==0:\n",
        "    pass  \n",
        "  else:\n",
        "    if len(lista)==1:\n",
        "      return lista[0]\n",
        "    else:\n",
        "      return lista[0]+sumaLista(lista[1:])\n",
        "\n",
        "def main ():\n",
        "  listaDeNumeros=[1,2,3,4,5]\n",
        "  listaDeNumeros2=[]\n",
        "  print(sumaLista(listaDeNumeros))\n",
        "  print(sumaLista(listaDeNumeros2))\n",
        "\n",
        "main()"
      ],
      "execution_count": null,
      "outputs": [
        {
          "output_type": "stream",
          "text": [
            "15\n",
            "None\n"
          ],
          "name": "stdout"
        }
      ]
    },
    {
      "cell_type": "code",
      "metadata": {
        "id": "dqGrDcgV5zKx",
        "colab": {
          "base_uri": "https://localhost:8080/"
        },
        "outputId": "431154a7-7c32-4a6c-f55e-7b867aab51ee"
      },
      "source": [
        "def fnRec(x):\n",
        "  if x==0:\n",
        "    pass\n",
        "  else:\n",
        "    print(x)\n",
        "    fnRec(x-1)\n",
        "    \n",
        "\n",
        "def main():\n",
        "  print(\"inicio del programa\")\n",
        "  fnRec(5)\n",
        "  print(\"fin del programa\")\n",
        "\n",
        "main()"
      ],
      "execution_count": null,
      "outputs": [
        {
          "output_type": "stream",
          "text": [
            "inicio del programa\n",
            "5\n",
            "4\n",
            "3\n",
            "2\n",
            "1\n",
            "fin del programa\n"
          ],
          "name": "stdout"
        }
      ]
    },
    {
      "cell_type": "code",
      "metadata": {
        "id": "EogJGQe65zbQ",
        "colab": {
          "base_uri": "https://localhost:8080/"
        },
        "outputId": "47c5afaa-48f5-4994-9424-960cdb7c094a"
      },
      "source": [
        "pila=[1,2,3,4,5,6,7,8,9]\n",
        "x=len(pila)//2\n",
        "\n",
        "print(pila)\n",
        "\n",
        "def fnRec(pila,index):\n",
        "\n",
        "  n=pila.pop() \n",
        "  if index==0:\n",
        "    print(n)\n",
        "  else:\n",
        "    fnRec(pila,index-1)\n",
        "    \n",
        "\n",
        "fnRec(pila,x)\n",
        "\n",
        "  \n"
      ],
      "execution_count": 217,
      "outputs": [
        {
          "output_type": "stream",
          "text": [
            "[1, 2, 3, 4, 5, 6, 7, 8, 9]\n",
            "5\n"
          ],
          "name": "stdout"
        }
      ]
    }
  ]
}