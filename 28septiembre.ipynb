{
  "nbformat": 4,
  "nbformat_minor": 0,
  "metadata": {
    "colab": {
      "name": "28septiembre.ipynb",
      "provenance": [],
      "toc_visible": true,
      "authorship_tag": "ABX9TyOW9WfPBKHY+E8UoKOpAlBk",
      "include_colab_link": true
    },
    "kernelspec": {
      "name": "python3",
      "display_name": "Python 3"
    }
  },
  "cells": [
    {
      "cell_type": "markdown",
      "metadata": {
        "id": "view-in-github",
        "colab_type": "text"
      },
      "source": [
        "<a href=\"https://colab.research.google.com/github/GerardoRojano/daa_2021_1/blob/master/28septiembre.ipynb\" target=\"_parent\"><img src=\"https://colab.research.google.com/assets/colab-badge.svg\" alt=\"Open In Colab\"/></a>"
      ]
    },
    {
      "cell_type": "markdown",
      "metadata": {
        "id": "kDMCNi_8DWiF"
      },
      "source": [
        "Seccion 1\n"
      ]
    },
    {
      "cell_type": "markdown",
      "metadata": {
        "id": "hC86kaUhDfdv"
      },
      "source": [
        "En este archivo aprenderemos a programar en Python con la herramienta de Google, colab.research\n",
        "\n",
        "Tambien aprenderemos a guardar nuestros cambios a nuestro repositorio de github.com"
      ]
    },
    {
      "cell_type": "markdown",
      "metadata": {
        "id": "L6DVzy3JDuj7"
      },
      "source": [
        "## Codigo de ejemplo\n",
        "**negritas**\n",
        "_italica_\n",
        "```python\n",
        "s = \"Python syntax highlighting\"\n",
        "print s\n",
        "```"
      ]
    },
    {
      "cell_type": "code",
      "metadata": {
        "id": "w61E6OlcGdmp",
        "outputId": "b00480b2-6ad4-4baa-af0b-4b66819e8b40",
        "colab": {
          "base_uri": "https://localhost:8080/",
          "height": 34
        }
      },
      "source": [
        "frutas=[]\n",
        "frutas.append('Manzana')\n",
        "frutas.append('Piña')\n",
        "frutas.append('Kiwi')\n",
        "print(frutas)"
      ],
      "execution_count": 2,
      "outputs": [
        {
          "output_type": "stream",
          "text": [
            "['Manzana', 'Piña', 'Kiwi']\n"
          ],
          "name": "stdout"
        }
      ]
    },
    {
      "cell_type": "code",
      "metadata": {
        "id": "FC0YRsRdHqp0"
      },
      "source": [
        "archivo=open('prueba_daa.txt','wt')\n",
        "archivo.write('Hola mundo Jupyter')\n",
        "archivo.close()"
      ],
      "execution_count": 3,
      "outputs": []
    }
  ]
}